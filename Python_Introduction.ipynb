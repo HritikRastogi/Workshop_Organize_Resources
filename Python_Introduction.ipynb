{
  "nbformat": 4,
  "nbformat_minor": 0,
  "metadata": {
    "colab": {
      "name": "Python Introduction",
      "provenance": [],
      "collapsed_sections": [
        "pjZwbNSm7uW0",
        "gVkGHWMhR1Gd",
        "dkv-ffZ_Y-Rz",
        "l14yGS_iBZh2",
        "Ed_PviuvNfth",
        "Xdc6mIjQKMc3",
        "g9dvUw9Vbbrd",
        "c8t--rvUd53p",
        "jWhSlbTeWHBS"
      ],
      "include_colab_link": true
    },
    "kernelspec": {
      "name": "python3",
      "display_name": "Python 3"
    }
  },
  "cells": [
    {
      "cell_type": "markdown",
      "metadata": {
        "id": "view-in-github",
        "colab_type": "text"
      },
      "source": [
        "<a href=\"https://colab.research.google.com/github/yesdeepakmittal/Python_Wksp_Organized/blob/master/Python_Introduction.ipynb\" target=\"_parent\"><img src=\"https://colab.research.google.com/assets/colab-badge.svg\" alt=\"Open In Colab\"/></a>"
      ]
    },
    {
      "cell_type": "markdown",
      "metadata": {
        "id": "8IxHDNWX14Pr",
        "colab_type": "text"
      },
      "source": [
        "***Python*** is an interpreted based, high-level, general-purpose programming language introduced by ***Guido van Rossum***. It is easily readable language and unlike other languages such as C-programming, it does not require any curly brackets to delimit blocks. It uses indentation instead. It is a widely-used programming language and it is fun. You will be astonished using this programming language to solve problems.  "
      ]
    },
    {
      "cell_type": "markdown",
      "metadata": {
        "id": "xMHk7TkxW0Tp",
        "colab_type": "text"
      },
      "source": [
        "##Operators"
      ]
    },
    {
      "cell_type": "markdown",
      "metadata": {
        "id": "pjZwbNSm7uW0",
        "colab_type": "text"
      },
      "source": [
        "###Arithmetic Operators + - \\* / // % \\**\n",
        "\n"
      ]
    },
    {
      "cell_type": "markdown",
      "metadata": {
        "id": "hrXytUo_Fa52",
        "colab_type": "text"
      },
      "source": [
        "**Note** - If it is require to print last line in the cell, no need to put the argument inside the print() function."
      ]
    },
    {
      "cell_type": "code",
      "metadata": {
        "id": "NLE1Xzde0xWm",
        "colab_type": "code",
        "outputId": "8878e85f-3392-4b97-96b6-4f0bcd77a0ad",
        "colab": {
          "base_uri": "https://localhost:8080/",
          "height": 33
        }
      },
      "source": [
        "5+1  #Addition"
      ],
      "execution_count": 1,
      "outputs": [
        {
          "output_type": "execute_result",
          "data": {
            "text/plain": [
              "6"
            ]
          },
          "metadata": {
            "tags": []
          },
          "execution_count": 1
        }
      ]
    },
    {
      "cell_type": "code",
      "metadata": {
        "id": "fBA5uqWxAvT4",
        "colab_type": "code",
        "outputId": "c3bc3c03-43ea-4ea8-82ac-bf9b19ce700a",
        "colab": {
          "base_uri": "https://localhost:8080/",
          "height": 33
        }
      },
      "source": [
        "5-1  #Substraction"
      ],
      "execution_count": 2,
      "outputs": [
        {
          "output_type": "execute_result",
          "data": {
            "text/plain": [
              "4"
            ]
          },
          "metadata": {
            "tags": []
          },
          "execution_count": 2
        }
      ]
    },
    {
      "cell_type": "code",
      "metadata": {
        "id": "gcg8yUZ6AssF",
        "colab_type": "code",
        "outputId": "f76423e6-3325-43e6-f133-16d067ff6d02",
        "colab": {
          "base_uri": "https://localhost:8080/",
          "height": 33
        }
      },
      "source": [
        "2*3  #Multiplication"
      ],
      "execution_count": 3,
      "outputs": [
        {
          "output_type": "execute_result",
          "data": {
            "text/plain": [
              "6"
            ]
          },
          "metadata": {
            "tags": []
          },
          "execution_count": 3
        }
      ]
    },
    {
      "cell_type": "code",
      "metadata": {
        "id": "_FfGwDL1AuCI",
        "colab_type": "code",
        "outputId": "9e9405e9-1afc-4f95-9136-04992c49c162",
        "colab": {
          "base_uri": "https://localhost:8080/",
          "height": 33
        }
      },
      "source": [
        "9/2  #Floating division(default)"
      ],
      "execution_count": 4,
      "outputs": [
        {
          "output_type": "execute_result",
          "data": {
            "text/plain": [
              "4.5"
            ]
          },
          "metadata": {
            "tags": []
          },
          "execution_count": 4
        }
      ]
    },
    {
      "cell_type": "code",
      "metadata": {
        "id": "SqHoyrZYA1-X",
        "colab_type": "code",
        "outputId": "db3cae4a-66dd-47b3-b3ba-c8f62c306cae",
        "colab": {
          "base_uri": "https://localhost:8080/",
          "height": 33
        }
      },
      "source": [
        "9//2 #Integer division"
      ],
      "execution_count": 5,
      "outputs": [
        {
          "output_type": "execute_result",
          "data": {
            "text/plain": [
              "4"
            ]
          },
          "metadata": {
            "tags": []
          },
          "execution_count": 5
        }
      ]
    },
    {
      "cell_type": "code",
      "metadata": {
        "id": "BZjHNaYHA3FV",
        "colab_type": "code",
        "outputId": "86f19bb6-de49-4e21-e622-51ea0f684779",
        "colab": {
          "base_uri": "https://localhost:8080/",
          "height": 33
        }
      },
      "source": [
        "9%2  #Mode"
      ],
      "execution_count": 6,
      "outputs": [
        {
          "output_type": "execute_result",
          "data": {
            "text/plain": [
              "1"
            ]
          },
          "metadata": {
            "tags": []
          },
          "execution_count": 6
        }
      ]
    },
    {
      "cell_type": "code",
      "metadata": {
        "id": "OY-MMiQsD8q0",
        "colab_type": "code",
        "outputId": "67d8608d-d590-4717-d23f-9bb15c5e88fe",
        "colab": {
          "base_uri": "https://localhost:8080/",
          "height": 33
        }
      },
      "source": [
        "2**10 #Exponentiation"
      ],
      "execution_count": 7,
      "outputs": [
        {
          "output_type": "execute_result",
          "data": {
            "text/plain": [
              "1024"
            ]
          },
          "metadata": {
            "tags": []
          },
          "execution_count": 7
        }
      ]
    },
    {
      "cell_type": "code",
      "metadata": {
        "id": "O9WlRBvOM7Ov",
        "colab_type": "code",
        "outputId": "1ae30576-9b64-4584-c415-eec388989fa3",
        "colab": {
          "base_uri": "https://localhost:8080/",
          "height": 33
        }
      },
      "source": [
        "(50 - 5*6) / 4   #Float division with curlybraces"
      ],
      "execution_count": 8,
      "outputs": [
        {
          "output_type": "execute_result",
          "data": {
            "text/plain": [
              "5.0"
            ]
          },
          "metadata": {
            "tags": []
          },
          "execution_count": 8
        }
      ]
    },
    {
      "cell_type": "markdown",
      "metadata": {
        "id": "gVkGHWMhR1Gd",
        "colab_type": "text"
      },
      "source": [
        "###Relational Operators == != < > >= <= "
      ]
    },
    {
      "cell_type": "code",
      "metadata": {
        "id": "36OgUOE0R4rp",
        "colab_type": "code",
        "colab": {}
      },
      "source": [
        "a = 10; b = 4"
      ],
      "execution_count": 0,
      "outputs": []
    },
    {
      "cell_type": "code",
      "metadata": {
        "id": "tgH1nPOQX-xd",
        "colab_type": "code",
        "outputId": "a302f048-b29e-43d0-c3bd-c323a537d93f",
        "colab": {
          "base_uri": "https://localhost:8080/",
          "height": 33
        }
      },
      "source": [
        "a == b"
      ],
      "execution_count": 10,
      "outputs": [
        {
          "output_type": "execute_result",
          "data": {
            "text/plain": [
              "False"
            ]
          },
          "metadata": {
            "tags": []
          },
          "execution_count": 10
        }
      ]
    },
    {
      "cell_type": "code",
      "metadata": {
        "id": "K0xdcN6GYC7h",
        "colab_type": "code",
        "outputId": "0ff4aaaa-ecf9-44dd-db8f-2a813f54bc2c",
        "colab": {
          "base_uri": "https://localhost:8080/",
          "height": 33
        }
      },
      "source": [
        "a != b"
      ],
      "execution_count": 11,
      "outputs": [
        {
          "output_type": "execute_result",
          "data": {
            "text/plain": [
              "True"
            ]
          },
          "metadata": {
            "tags": []
          },
          "execution_count": 11
        }
      ]
    },
    {
      "cell_type": "code",
      "metadata": {
        "id": "KEZAw8dLYDAO",
        "colab_type": "code",
        "outputId": "cf577094-7061-434d-ebc5-e4667045a5c5",
        "colab": {
          "base_uri": "https://localhost:8080/",
          "height": 33
        }
      },
      "source": [
        "a < b"
      ],
      "execution_count": 12,
      "outputs": [
        {
          "output_type": "execute_result",
          "data": {
            "text/plain": [
              "False"
            ]
          },
          "metadata": {
            "tags": []
          },
          "execution_count": 12
        }
      ]
    },
    {
      "cell_type": "code",
      "metadata": {
        "id": "Msjd8720YDC3",
        "colab_type": "code",
        "outputId": "2734cd08-881d-468e-c008-f9eade4ec6d1",
        "colab": {
          "base_uri": "https://localhost:8080/",
          "height": 33
        }
      },
      "source": [
        "a > b"
      ],
      "execution_count": 13,
      "outputs": [
        {
          "output_type": "execute_result",
          "data": {
            "text/plain": [
              "True"
            ]
          },
          "metadata": {
            "tags": []
          },
          "execution_count": 13
        }
      ]
    },
    {
      "cell_type": "code",
      "metadata": {
        "id": "xVuWfgCrYDF2",
        "colab_type": "code",
        "outputId": "9de42d40-b269-4afe-a118-b39b3c4f5d25",
        "colab": {
          "base_uri": "https://localhost:8080/",
          "height": 33
        }
      },
      "source": [
        "a >= b"
      ],
      "execution_count": 14,
      "outputs": [
        {
          "output_type": "execute_result",
          "data": {
            "text/plain": [
              "True"
            ]
          },
          "metadata": {
            "tags": []
          },
          "execution_count": 14
        }
      ]
    },
    {
      "cell_type": "code",
      "metadata": {
        "id": "zn7yeFbOYDK6",
        "colab_type": "code",
        "outputId": "b89453bc-2ba6-483f-a41a-ed34de38b550",
        "colab": {
          "base_uri": "https://localhost:8080/",
          "height": 33
        }
      },
      "source": [
        "a <= b"
      ],
      "execution_count": 15,
      "outputs": [
        {
          "output_type": "execute_result",
          "data": {
            "text/plain": [
              "False"
            ]
          },
          "metadata": {
            "tags": []
          },
          "execution_count": 15
        }
      ]
    },
    {
      "cell_type": "markdown",
      "metadata": {
        "id": "aLDQsm3wYumB",
        "colab_type": "text"
      },
      "source": [
        "###Bitwise Operators & | ^ ~ << >>"
      ]
    },
    {
      "cell_type": "code",
      "metadata": {
        "id": "L3z-bOC5liLg",
        "colab_type": "code",
        "colab": {}
      },
      "source": [
        ""
      ],
      "execution_count": 0,
      "outputs": []
    },
    {
      "cell_type": "markdown",
      "metadata": {
        "id": "0st_JiglmW5W",
        "colab_type": "text"
      },
      "source": [
        "Numbers in binary format :\n",
        "\n",
        "2 is \"10\"\n",
        "\n",
        "3 is \"11\"\n",
        "\n",
        "4 is \"100\"\n",
        "\n",
        "678 is \"1010100110\"\n",
        "\n",
        "Python Bitwise Operators take one or two operands, and operate on them bit by bit, instead of whole. Following are the bitwise operators in Python\n",
        "\n",
        "\n"
      ]
    },
    {
      "cell_type": "markdown",
      "metadata": {
        "id": "E7JxPszWmtQr",
        "colab_type": "text"
      },
      "source": [
        "1. \"<<\" (Left shift) - Multiply by 2 ** number of bits\n",
        "\n",
        "Example: x = 12 and x << 2 will return 48 i.e. (12 * (2 ** 2)) This is similar to multiplication and more efficient than the regular **method**"
      ]
    },
    {
      "cell_type": "code",
      "metadata": {
        "id": "Vp_UJOKSmvtP",
        "colab_type": "code",
        "outputId": "b295e614-9daa-4a69-dd06-6a8b47eeebdf",
        "colab": {
          "base_uri": "https://localhost:8080/",
          "height": 33
        }
      },
      "source": [
        "x = 12 \n",
        "x << 2"
      ],
      "execution_count": 16,
      "outputs": [
        {
          "output_type": "execute_result",
          "data": {
            "text/plain": [
              "48"
            ]
          },
          "metadata": {
            "tags": []
          },
          "execution_count": 16
        }
      ]
    },
    {
      "cell_type": "markdown",
      "metadata": {
        "id": "iZfuz5MDm7Ld",
        "colab_type": "text"
      },
      "source": [
        "  2.\"    >> \"(Right shift) - divide by 2 ** number of bits\n",
        "\n",
        "Example: x = 48 and x >> 3 will return 6 i.e. (48 / (2 ** 3)) This is similar to division by powers of 2 (2, 4, 8, 16 etc.)"
      ]
    },
    {
      "cell_type": "code",
      "metadata": {
        "id": "lR_UQz9TnuM7",
        "colab_type": "code",
        "outputId": "294aa767-ea44-41d5-9fd2-4c379c9409c7",
        "colab": {
          "base_uri": "https://localhost:8080/",
          "height": 33
        }
      },
      "source": [
        "x =48\n",
        "x>>3"
      ],
      "execution_count": 17,
      "outputs": [
        {
          "output_type": "execute_result",
          "data": {
            "text/plain": [
              "6"
            ]
          },
          "metadata": {
            "tags": []
          },
          "execution_count": 17
        }
      ]
    },
    {
      "cell_type": "markdown",
      "metadata": {
        "id": "B4n-qCR5n3zj",
        "colab_type": "text"
      },
      "source": [
        "3. \"&\" (AND) - If both bits in the compared position are 1, the bit in the resulting binary representation is 1 (1 × 1 = 1) i.e. True; otherwise, the result is 0 (1 × 0 = 0 and 0 × 0 = 0) i.e. False.\n",
        "\n",
        "Example : x & y Does a \"bitwise and\". If the bit in x and the corresponding bit in y are 1, then the bit in the result will be 1. otherwise it will be zero.\n",
        "\n",
        "2 & 5 will result in zero because (010 & 101 = 000). 3 & 5 will result in 1 because (011 & 101 = 001)"
      ]
    },
    {
      "cell_type": "code",
      "metadata": {
        "id": "JzJX0sXJoNcy",
        "colab_type": "code",
        "outputId": "f8074ac6-3dff-4047-974e-36557076198c",
        "colab": {
          "base_uri": "https://localhost:8080/",
          "height": 33
        }
      },
      "source": [
        "2&5\n"
      ],
      "execution_count": 18,
      "outputs": [
        {
          "output_type": "execute_result",
          "data": {
            "text/plain": [
              "0"
            ]
          },
          "metadata": {
            "tags": []
          },
          "execution_count": 18
        }
      ]
    },
    {
      "cell_type": "code",
      "metadata": {
        "id": "-_W-1u1IoUUu",
        "colab_type": "code",
        "outputId": "542eb6c2-98fa-4942-85a8-53ca3dafed4d",
        "colab": {
          "base_uri": "https://localhost:8080/",
          "height": 33
        }
      },
      "source": [
        "3 & 5"
      ],
      "execution_count": 19,
      "outputs": [
        {
          "output_type": "execute_result",
          "data": {
            "text/plain": [
              "1"
            ]
          },
          "metadata": {
            "tags": []
          },
          "execution_count": 19
        }
      ]
    },
    {
      "cell_type": "markdown",
      "metadata": {
        "id": "G-6Ch_X5obUi",
        "colab_type": "text"
      },
      "source": [
        "4. \"|\" (OR) - If the result in each position is 0(False) if both bits are 0, while otherwise the result is 1(True).\n",
        "\n",
        "Example : x | y Does a \"bitwise or\". If the bit in both operands is zero, then the resulting bit is zero. otherwise it is 1.\n",
        "\n",
        "2 | 5 will result in 7 because (010 |101 = 111) and 3 | 5 will also result in 7 because (011 | 101 = 111)"
      ]
    },
    {
      "cell_type": "code",
      "metadata": {
        "id": "ahGHqyW1oseq",
        "colab_type": "code",
        "outputId": "8b91841e-4fd7-4227-a484-c9b4d73bc3eb",
        "colab": {
          "base_uri": "https://localhost:8080/",
          "height": 33
        }
      },
      "source": [
        "2|5"
      ],
      "execution_count": 20,
      "outputs": [
        {
          "output_type": "execute_result",
          "data": {
            "text/plain": [
              "7"
            ]
          },
          "metadata": {
            "tags": []
          },
          "execution_count": 20
        }
      ]
    },
    {
      "cell_type": "code",
      "metadata": {
        "id": "9nRcQxLao1X3",
        "colab_type": "code",
        "outputId": "856c30d2-b8df-4856-f78e-8c339456c256",
        "colab": {
          "base_uri": "https://localhost:8080/",
          "height": 33
        }
      },
      "source": [
        "3|5"
      ],
      "execution_count": 21,
      "outputs": [
        {
          "output_type": "execute_result",
          "data": {
            "text/plain": [
              "7"
            ]
          },
          "metadata": {
            "tags": []
          },
          "execution_count": 21
        }
      ]
    },
    {
      "cell_type": "markdown",
      "metadata": {
        "id": "R1_qB9skpDKI",
        "colab_type": "text"
      },
      "source": [
        "5. \"~\" (NOT) - The bitwise NOT, or complement, is a unary operation that performs logical negation on each bit, forming the ones' complement of the given binary value. Bits that are 0 become 1, and those that are 1 become 0.\n",
        "\n",
        "Example : ~ Returns the complement of x . If the bit is 1 it will become zero and if the bit is zero it will become 1.\n",
        "\n",
        "~ 5 will result in 2 because (~ 101 = 010) and ~ 2 will become 5 because (~010 = 101). This is true only for unsigned integers."
      ]
    },
    {
      "cell_type": "code",
      "metadata": {
        "id": "JGYzW8DZpdsX",
        "colab_type": "code",
        "outputId": "57fe6aa9-f0ee-4d53-bad4-9c64cc227622",
        "colab": {
          "base_uri": "https://localhost:8080/",
          "height": 33
        }
      },
      "source": [
        "~1"
      ],
      "execution_count": 22,
      "outputs": [
        {
          "output_type": "execute_result",
          "data": {
            "text/plain": [
              "-2"
            ]
          },
          "metadata": {
            "tags": []
          },
          "execution_count": 22
        }
      ]
    },
    {
      "cell_type": "markdown",
      "metadata": {
        "id": "Wt_Q-SSWp8EJ",
        "colab_type": "text"
      },
      "source": [
        "6. \"^\" (Bitwise XOR) - If the comparison of two bits, being 1 if the two bits are different, and 0 if they are the same.\n",
        "\n",
        "Example: Does a \"bitwise exclusive or\". If the bit in in either operands is 1, but not in both, then the resultant bit will be 1. Otherwise it will be 0.\n",
        "\n",
        "5 ^ 3 will result in 6 because (101 ^ 011 = 110)"
      ]
    },
    {
      "cell_type": "code",
      "metadata": {
        "id": "-ZHy7K3tqHXg",
        "colab_type": "code",
        "outputId": "2e652395-54c8-4250-baa7-228888cbfb65",
        "colab": {
          "base_uri": "https://localhost:8080/",
          "height": 33
        }
      },
      "source": [
        "5 ^ 3"
      ],
      "execution_count": 23,
      "outputs": [
        {
          "output_type": "execute_result",
          "data": {
            "text/plain": [
              "6"
            ]
          },
          "metadata": {
            "tags": []
          },
          "execution_count": 23
        }
      ]
    },
    {
      "cell_type": "markdown",
      "metadata": {
        "id": "lJCG7rIMYYFs",
        "colab_type": "text"
      },
      "source": [
        "###Assignment Operator = += -= *= /= %= **= //="
      ]
    },
    {
      "cell_type": "code",
      "metadata": {
        "id": "8pEOo5ltgLOb",
        "colab_type": "code",
        "colab": {}
      },
      "source": [
        ""
      ],
      "execution_count": 0,
      "outputs": []
    },
    {
      "cell_type": "code",
      "metadata": {
        "colab_type": "code",
        "id": "wykKjqczgNOC",
        "colab": {}
      },
      "source": [
        "# Assignment operator = assign value from right side operands to left side operand\n",
        "a = 10   # 10 is assign to variable a\n",
        "b = 4    # 4 is assign to variable b\n",
        "c = a+b    # operator \"=\"assign value from right side operands (a +b ) to left side operand  (c)\n",
        "\n"
      ],
      "execution_count": 0,
      "outputs": []
    },
    {
      "cell_type": "code",
      "metadata": {
        "colab_type": "code",
        "id": "lw9OztbygNOI",
        "colab": {}
      },
      "source": [
        "  #operator \"+=\" , a += b means a = a + b\n",
        "  #example\n",
        "  a= 10\n",
        "  b=10\n",
        "  a+=b"
      ],
      "execution_count": 0,
      "outputs": []
    },
    {
      "cell_type": "code",
      "metadata": {
        "colab_type": "code",
        "id": "8_Xw2BoYgNOK",
        "colab": {}
      },
      "source": [
        "#operator \"-=\" , a -= b means a = a - b\n",
        "#example\n",
        "a= 10\n",
        "b=10\n",
        "a-=b"
      ],
      "execution_count": 0,
      "outputs": []
    },
    {
      "cell_type": "code",
      "metadata": {
        "colab_type": "code",
        "id": "dTEhRQq5gNOM",
        "colab": {}
      },
      "source": [
        "#operator \"*=\" , a *= b means a = a * b\n",
        "#example\n",
        "a = 10\n",
        "b = 10\n",
        "a *= b\n"
      ],
      "execution_count": 0,
      "outputs": []
    },
    {
      "cell_type": "code",
      "metadata": {
        "colab_type": "code",
        "id": "XX1M2dbMgNON",
        "colab": {}
      },
      "source": [
        "#operator \"/=\" , a /= b means a = a / b\n",
        "#example\n",
        "a = 10\n",
        "b = 10\n",
        "a /= b"
      ],
      "execution_count": 0,
      "outputs": []
    },
    {
      "cell_type": "code",
      "metadata": {
        "colab_type": "code",
        "id": "4Ga8UzKfgNOP",
        "colab": {}
      },
      "source": [
        "#operator \"**=\", a **= b means a = a ** b\n",
        "#example\n",
        "a = 10 \n",
        "b = 10\n",
        "a **= b"
      ],
      "execution_count": 0,
      "outputs": []
    },
    {
      "cell_type": "code",
      "metadata": {
        "colab_type": "code",
        "id": "vH4VqnoJgNOR",
        "colab": {}
      },
      "source": [
        "#operator \"%=\", a %= b means a = a % b\n",
        "#example\n",
        "a = 10\n",
        "b = 10\n",
        "a %= b"
      ],
      "execution_count": 0,
      "outputs": []
    },
    {
      "cell_type": "code",
      "metadata": {
        "colab_type": "code",
        "id": "6UDHh1vZgNOS",
        "colab": {}
      },
      "source": [
        "#operator \"//=\" , a //= b means a = a // b\n",
        "#example\n",
        "a = 10\n",
        "b = 10\n",
        "a //= b"
      ],
      "execution_count": 0,
      "outputs": []
    },
    {
      "cell_type": "code",
      "metadata": {
        "id": "-Q7AVhcZpf56",
        "colab_type": "code",
        "colab": {}
      },
      "source": [
        ""
      ],
      "execution_count": 0,
      "outputs": []
    },
    {
      "cell_type": "markdown",
      "metadata": {
        "id": "dkv-ffZ_Y-Rz",
        "colab_type": "text"
      },
      "source": [
        "###Logical Operators and or not\n",
        "\n",
        "1.   List item\n",
        "2.   List item\n",
        "\n"
      ]
    },
    {
      "cell_type": "markdown",
      "metadata": {
        "id": "ItpolHe9Mrbb",
        "colab_type": "text"
      },
      "source": [
        "Logical Operator is derived from boolean algebra where the result is either **True** or **False**\n",
        "\n",
        "\n",
        "\n",
        "**1** represent **True** and **0** represent **False**"
      ]
    },
    {
      "cell_type": "code",
      "metadata": {
        "id": "qlt5PfJXgq4n",
        "colab_type": "code",
        "colab": {}
      },
      "source": [
        ""
      ],
      "execution_count": 0,
      "outputs": []
    },
    {
      "cell_type": "markdown",
      "metadata": {
        "id": "ZwuLiju5g0QP",
        "colab_type": "text"
      },
      "source": [
        "The logical operator supported in python is similar to logical gates and are as follow\n",
        "\n",
        "1 . **and**- Logical AND - The result is True only if both the conditions  are true  otherwise False . Example\n",
        "\n"
      ]
    },
    {
      "cell_type": "code",
      "metadata": {
        "id": "K2bKeWGMifKL",
        "colab_type": "code",
        "outputId": "b254f50d-4bc1-4453-c9ee-246261aaa492",
        "colab": {
          "base_uri": "https://localhost:8080/",
          "height": 33
        }
      },
      "source": [
        "4 > 2 and 5 < 6"
      ],
      "execution_count": 32,
      "outputs": [
        {
          "output_type": "execute_result",
          "data": {
            "text/plain": [
              "True"
            ]
          },
          "metadata": {
            "tags": []
          },
          "execution_count": 32
        }
      ]
    },
    {
      "cell_type": "code",
      "metadata": {
        "id": "MEzDHv8LiLZP",
        "colab_type": "code",
        "outputId": "ca7a19a4-e6e5-4b15-ffde-4435e3247e15",
        "colab": {
          "base_uri": "https://localhost:8080/",
          "height": 33
        }
      },
      "source": [
        "4 < 2 and 5 < 6"
      ],
      "execution_count": 33,
      "outputs": [
        {
          "output_type": "execute_result",
          "data": {
            "text/plain": [
              "False"
            ]
          },
          "metadata": {
            "tags": []
          },
          "execution_count": 33
        }
      ]
    },
    {
      "cell_type": "markdown",
      "metadata": {
        "id": "1g24sLlOizs7",
        "colab_type": "text"
      },
      "source": [
        "2 . **or**- Logical OR - The result is True if any one of the condition is True .Example\n"
      ]
    },
    {
      "cell_type": "code",
      "metadata": {
        "id": "wIMZam4rjTrt",
        "colab_type": "code",
        "outputId": "ee14ff63-cfef-4c02-bf9d-efe0721afc59",
        "colab": {
          "base_uri": "https://localhost:8080/",
          "height": 33
        }
      },
      "source": [
        "66 < 66 or 66 < 67"
      ],
      "execution_count": 34,
      "outputs": [
        {
          "output_type": "execute_result",
          "data": {
            "text/plain": [
              "True"
            ]
          },
          "metadata": {
            "tags": []
          },
          "execution_count": 34
        }
      ]
    },
    {
      "cell_type": "code",
      "metadata": {
        "id": "N1rx3dlJjr3I",
        "colab_type": "code",
        "colab": {
          "base_uri": "https://localhost:8080/",
          "height": 33
        },
        "outputId": "f4773b40-6616-480e-f1fe-b5ba98da5ae1"
      },
      "source": [
        "66 < 64 or 66 < 61"
      ],
      "execution_count": 35,
      "outputs": [
        {
          "output_type": "execute_result",
          "data": {
            "text/plain": [
              "False"
            ]
          },
          "metadata": {
            "tags": []
          },
          "execution_count": 35
        }
      ]
    },
    {
      "cell_type": "markdown",
      "metadata": {
        "id": "l1DPbDBxkArN",
        "colab_type": "text"
      },
      "source": [
        "3 . **not**- Logical NOT - If the operand is True , thr result is False and vice versa . Example"
      ]
    },
    {
      "cell_type": "code",
      "metadata": {
        "id": "eNlbwl0PkkTi",
        "colab_type": "code",
        "outputId": "0dbd0581-4055-4e21-bba1-855f2eb105d7",
        "colab": {
          "base_uri": "https://localhost:8080/",
          "height": 33
        }
      },
      "source": [
        "66 > 63  #without using not"
      ],
      "execution_count": 36,
      "outputs": [
        {
          "output_type": "execute_result",
          "data": {
            "text/plain": [
              "True"
            ]
          },
          "metadata": {
            "tags": []
          },
          "execution_count": 36
        }
      ]
    },
    {
      "cell_type": "code",
      "metadata": {
        "id": "4G9FpW_3k1JI",
        "colab_type": "code",
        "outputId": "2a1e2d4b-7ce3-4a23-f408-543a559130e7",
        "colab": {
          "base_uri": "https://localhost:8080/",
          "height": 33
        }
      },
      "source": [
        "not(66 > 63) #using not"
      ],
      "execution_count": 37,
      "outputs": [
        {
          "output_type": "execute_result",
          "data": {
            "text/plain": [
              "False"
            ]
          },
          "metadata": {
            "tags": []
          },
          "execution_count": 37
        }
      ]
    },
    {
      "cell_type": "markdown",
      "metadata": {
        "id": "l14yGS_iBZh2",
        "colab_type": "text"
      },
      "source": [
        "###**Some Basic Functions**"
      ]
    },
    {
      "cell_type": "markdown",
      "metadata": {
        "id": "lbd_pWXaBkqL",
        "colab_type": "text"
      },
      "source": [
        "**print()** - It is use to print the specified messages."
      ]
    },
    {
      "cell_type": "markdown",
      "metadata": {
        "id": "UKhcJzNXG8qc",
        "colab_type": "text"
      },
      "source": [
        "**Note** - # and ''' '''(or \"\"\" \"\"\") are the two ways to represent comment line in python"
      ]
    },
    {
      "cell_type": "code",
      "metadata": {
        "id": "lBXCi26zBEYl",
        "colab_type": "code",
        "outputId": "4eec4b6b-35c9-45f5-dc8a-2f158d451e59",
        "colab": {
          "base_uri": "https://localhost:8080/",
          "height": 33
        }
      },
      "source": [
        "a = 2      \n",
        "b = a*2    \n",
        "'''Python is fun and it does not require to declare varaible before using. A single variable can be used as integer, float, string, list, tuple, etc.'''\n",
        "print(b)"
      ],
      "execution_count": 38,
      "outputs": [
        {
          "output_type": "stream",
          "text": [
            "4\n"
          ],
          "name": "stdout"
        }
      ]
    },
    {
      "cell_type": "code",
      "metadata": {
        "id": "0AFowGhKSaVI",
        "colab_type": "code",
        "outputId": "573305ea-400e-4064-a052-70a3a91512c7",
        "colab": {
          "base_uri": "https://localhost:8080/",
          "height": 33
        }
      },
      "source": [
        "a = 45; print(a)  #Multiple Python statement in single line seperated by ;"
      ],
      "execution_count": 39,
      "outputs": [
        {
          "output_type": "stream",
          "text": [
            "45\n"
          ],
          "name": "stdout"
        }
      ]
    },
    {
      "cell_type": "code",
      "metadata": {
        "id": "JmDMQ5SgTvpY",
        "colab_type": "code",
        "outputId": "3b1554f2-da21-4268-b301-a9b88bf1bee4",
        "colab": {
          "base_uri": "https://localhost:8080/",
          "height": 33
        }
      },
      "source": [
        "Name,Age='xyz',21                                     #Multiple Assignment\n",
        "print('Name is {} and Age is {}'.format(Name,Age))    #Formatting"
      ],
      "execution_count": 40,
      "outputs": [
        {
          "output_type": "stream",
          "text": [
            "Name is xyz and Age is 21\n"
          ],
          "name": "stdout"
        }
      ]
    },
    {
      "cell_type": "code",
      "metadata": {
        "id": "dkdlIbPwUWI_",
        "colab_type": "code",
        "outputId": "498db889-6e23-4a93-d7d3-8649782d8922",
        "colab": {
          "base_uri": "https://localhost:8080/",
          "height": 33
        }
      },
      "source": [
        "age,name = Name,Age                                   #Swapping\n",
        "print('Name is {} and Age is {}'.format(name,age)) "
      ],
      "execution_count": 41,
      "outputs": [
        {
          "output_type": "stream",
          "text": [
            "Name is 21 and Age is xyz\n"
          ],
          "name": "stdout"
        }
      ]
    },
    {
      "cell_type": "markdown",
      "metadata": {
        "id": "ukTZrLzmGYMz",
        "colab_type": "text"
      },
      "source": [
        "**input()** - It is used to take input from the user. "
      ]
    },
    {
      "cell_type": "markdown",
      "metadata": {
        "id": "ZgfCBaL8HY4m",
        "colab_type": "text"
      },
      "source": [
        "**Note** - python takes input in the form of string. To get input in integer form pass the input function into int() function. "
      ]
    },
    {
      "cell_type": "code",
      "metadata": {
        "id": "TW-rikGPDK9q",
        "colab_type": "code",
        "outputId": "450bd0c8-d9d9-42a3-87ec-4583e813bb49",
        "colab": {
          "base_uri": "https://localhost:8080/",
          "height": 50
        }
      },
      "source": [
        "a = int(input('Enter your roll number ')) #int() is a function which is use to convert numeric digits into integer.\n",
        "print('Your roll number is',a)            #Python add whitespace between two strings if seperated by ,"
      ],
      "execution_count": 43,
      "outputs": [
        {
          "output_type": "stream",
          "text": [
            "Enter your roll number 1\n",
            "Your roll number is 1\n"
          ],
          "name": "stdout"
        }
      ]
    },
    {
      "cell_type": "markdown",
      "metadata": {
        "id": "ScJqEdqPVAfR",
        "colab_type": "text"
      },
      "source": [
        "**type()** - It is used to determine the type of a variable."
      ]
    },
    {
      "cell_type": "code",
      "metadata": {
        "id": "b4-ZsLJcH3jv",
        "colab_type": "code",
        "outputId": "92d492e8-b1cb-494e-8e30-a6c025f88e24",
        "colab": {
          "base_uri": "https://localhost:8080/",
          "height": 67
        }
      },
      "source": [
        "a = 3; b = 'stt'; c = 2.3\n",
        "print(type(a))\n",
        "print(type(b))\n",
        "print(type(c))"
      ],
      "execution_count": 44,
      "outputs": [
        {
          "output_type": "stream",
          "text": [
            "<class 'int'>\n",
            "<class 'str'>\n",
            "<class 'float'>\n"
          ],
          "name": "stdout"
        }
      ]
    },
    {
      "cell_type": "markdown",
      "metadata": {
        "id": "1qAQnZFSZYlT",
        "colab_type": "text"
      },
      "source": [
        "**round()** - It rounds the value to a specified number of places. "
      ]
    },
    {
      "cell_type": "code",
      "metadata": {
        "id": "NmSezwkVZXIF",
        "colab_type": "code",
        "outputId": "5422f751-d728-4d1b-d482-fd316c02059c",
        "colab": {
          "base_uri": "https://localhost:8080/",
          "height": 33
        }
      },
      "source": [
        "a = 3.2294\n",
        "print(round(a,2))"
      ],
      "execution_count": 45,
      "outputs": [
        {
          "output_type": "stream",
          "text": [
            "3.23\n"
          ],
          "name": "stdout"
        }
      ]
    },
    {
      "cell_type": "markdown",
      "metadata": {
        "id": "YHhQXsNPZzGe",
        "colab_type": "text"
      },
      "source": [
        "**abs()** - It is used to make a value absolute. "
      ]
    },
    {
      "cell_type": "code",
      "metadata": {
        "id": "Sc1WBa0TZXPZ",
        "colab_type": "code",
        "outputId": "f5623d2c-bf8f-428b-d44f-9c17a40493da",
        "colab": {
          "base_uri": "https://localhost:8080/",
          "height": 50
        }
      },
      "source": [
        "a = -4;b = 8\n",
        "print(abs(a))\n",
        "print(abs(b))"
      ],
      "execution_count": 46,
      "outputs": [
        {
          "output_type": "stream",
          "text": [
            "4\n",
            "8\n"
          ],
          "name": "stdout"
        }
      ]
    },
    {
      "cell_type": "code",
      "metadata": {
        "id": "_MGeuD_qZXUt",
        "colab_type": "code",
        "colab": {}
      },
      "source": [
        ""
      ],
      "execution_count": 0,
      "outputs": []
    },
    {
      "cell_type": "code",
      "metadata": {
        "id": "0bND3FAjZXXz",
        "colab_type": "code",
        "colab": {}
      },
      "source": [
        ""
      ],
      "execution_count": 0,
      "outputs": []
    },
    {
      "cell_type": "code",
      "metadata": {
        "id": "sJDGKxEBZXd9",
        "colab_type": "code",
        "colab": {}
      },
      "source": [
        ""
      ],
      "execution_count": 0,
      "outputs": []
    },
    {
      "cell_type": "code",
      "metadata": {
        "id": "DCUrn8qpZXjO",
        "colab_type": "code",
        "colab": {}
      },
      "source": [
        ""
      ],
      "execution_count": 0,
      "outputs": []
    },
    {
      "cell_type": "code",
      "metadata": {
        "id": "nUoe1FBjZXmc",
        "colab_type": "code",
        "colab": {}
      },
      "source": [
        ""
      ],
      "execution_count": 0,
      "outputs": []
    },
    {
      "cell_type": "code",
      "metadata": {
        "id": "wegFY3l8ZXhA",
        "colab_type": "code",
        "colab": {}
      },
      "source": [
        ""
      ],
      "execution_count": 0,
      "outputs": []
    },
    {
      "cell_type": "code",
      "metadata": {
        "id": "6-jEbDzOZXbx",
        "colab_type": "code",
        "colab": {}
      },
      "source": [
        ""
      ],
      "execution_count": 0,
      "outputs": []
    },
    {
      "cell_type": "code",
      "metadata": {
        "id": "isYBZv0mZXSy",
        "colab_type": "code",
        "colab": {}
      },
      "source": [
        ""
      ],
      "execution_count": 0,
      "outputs": []
    },
    {
      "cell_type": "code",
      "metadata": {
        "id": "XepTftf8ZXN5",
        "colab_type": "code",
        "colab": {}
      },
      "source": [
        ""
      ],
      "execution_count": 0,
      "outputs": []
    },
    {
      "cell_type": "markdown",
      "metadata": {
        "id": "RHNn4xjkis5f",
        "colab_type": "text"
      },
      "source": [
        ""
      ]
    },
    {
      "cell_type": "markdown",
      "metadata": {
        "id": "Ed_PviuvNfth",
        "colab_type": "text"
      },
      "source": [
        "###String"
      ]
    },
    {
      "cell_type": "markdown",
      "metadata": {
        "id": "zesbdyovNugw",
        "colab_type": "text"
      },
      "source": [
        "**String assignment**"
      ]
    },
    {
      "cell_type": "code",
      "metadata": {
        "id": "nJ4148wlJtZ6",
        "colab_type": "code",
        "colab": {}
      },
      "source": [
        "a = 'Hello, World!'"
      ],
      "execution_count": 0,
      "outputs": []
    },
    {
      "cell_type": "markdown",
      "metadata": {
        "id": "QG-XaX04N0HF",
        "colab_type": "text"
      },
      "source": [
        "String Indexing - The indexing of string is start from 0 to n-1(n=length of string)"
      ]
    },
    {
      "cell_type": "code",
      "metadata": {
        "id": "IaXAGa_EN3Tv",
        "colab_type": "code",
        "outputId": "e593d05f-e8c5-4a51-c07f-5b32db15b81b",
        "colab": {
          "base_uri": "https://localhost:8080/",
          "height": 33
        }
      },
      "source": [
        "a[0]"
      ],
      "execution_count": 48,
      "outputs": [
        {
          "output_type": "execute_result",
          "data": {
            "text/plain": [
              "'H'"
            ]
          },
          "metadata": {
            "tags": []
          },
          "execution_count": 48
        }
      ]
    },
    {
      "cell_type": "markdown",
      "metadata": {
        "id": "BLDOyaNWOElu",
        "colab_type": "text"
      },
      "source": [
        "Slicing"
      ]
    },
    {
      "cell_type": "code",
      "metadata": {
        "id": "C9Gn-BbuOIBX",
        "colab_type": "code",
        "outputId": "0d396ed8-5599-406e-9160-92b1d99e3dd8",
        "colab": {
          "base_uri": "https://localhost:8080/",
          "height": 33
        }
      },
      "source": [
        "a[0:5]"
      ],
      "execution_count": 49,
      "outputs": [
        {
          "output_type": "execute_result",
          "data": {
            "text/plain": [
              "'Hello'"
            ]
          },
          "metadata": {
            "tags": []
          },
          "execution_count": 49
        }
      ]
    },
    {
      "cell_type": "code",
      "metadata": {
        "id": "LTQOzI6EaQ8w",
        "colab_type": "code",
        "outputId": "81da0a85-3a1e-4dd0-a1a8-e9d087deed67",
        "colab": {
          "base_uri": "https://localhost:8080/",
          "height": 33
        }
      },
      "source": [
        "print(a[0:5],'Folk!')"
      ],
      "execution_count": 50,
      "outputs": [
        {
          "output_type": "stream",
          "text": [
            "Hello Folk!\n"
          ],
          "name": "stdout"
        }
      ]
    },
    {
      "cell_type": "code",
      "metadata": {
        "id": "YquEPa5HOQ8f",
        "colab_type": "code",
        "outputId": "9237c6aa-f10d-4cba-b5e3-19abead12368",
        "colab": {
          "base_uri": "https://localhost:8080/",
          "height": 33
        }
      },
      "source": [
        "a[7:-1]                         #-1 is use to represent last element of the string, -2 second last, and so on..."
      ],
      "execution_count": 51,
      "outputs": [
        {
          "output_type": "execute_result",
          "data": {
            "text/plain": [
              "'World'"
            ]
          },
          "metadata": {
            "tags": []
          },
          "execution_count": 51
        }
      ]
    },
    {
      "cell_type": "markdown",
      "metadata": {
        "id": "9ZzJc2GKauQt",
        "colab_type": "text"
      },
      "source": [
        "Concatenation"
      ]
    },
    {
      "cell_type": "code",
      "metadata": {
        "id": "7S1UOZwpaxK6",
        "colab_type": "code",
        "outputId": "6646d2aa-9288-45a8-af74-2694d6c6344a",
        "colab": {
          "base_uri": "https://localhost:8080/",
          "height": 33
        }
      },
      "source": [
        "F_Name = 'abc'\n",
        "L_Name = 'xyz'\n",
        "print(F_Name+' '+L_Name)"
      ],
      "execution_count": 52,
      "outputs": [
        {
          "output_type": "stream",
          "text": [
            "abc xyz\n"
          ],
          "name": "stdout"
        }
      ]
    },
    {
      "cell_type": "code",
      "metadata": {
        "id": "CZLEwwzS9XKy",
        "colab_type": "code",
        "colab": {}
      },
      "source": [
        ""
      ],
      "execution_count": 0,
      "outputs": []
    },
    {
      "cell_type": "markdown",
      "metadata": {
        "id": "z0P_X-3x9K0D",
        "colab_type": "text"
      },
      "source": [
        "Functions(Built-in function) of String"
      ]
    },
    {
      "cell_type": "code",
      "metadata": {
        "id": "13EeTjy79VV_",
        "colab_type": "code",
        "colab": {}
      },
      "source": [
        "Name = 'Micheal Jackson'\n"
      ],
      "execution_count": 0,
      "outputs": []
    },
    {
      "cell_type": "markdown",
      "metadata": {
        "id": "QIyguD5BJugx",
        "colab_type": "text"
      },
      "source": [
        "**Function Defination**"
      ]
    },
    {
      "cell_type": "code",
      "metadata": {
        "id": "c_EL_fn2Jwgf",
        "colab_type": "code",
        "outputId": "59802d80-4f79-42fb-b87b-a64e683337b6",
        "colab": {
          "base_uri": "https://localhost:8080/",
          "height": 33
        }
      },
      "source": [
        "def add():\n",
        "  a = 4\n",
        "  b = 3\n",
        "  return a + b\n",
        "\n",
        "print(add())"
      ],
      "execution_count": 54,
      "outputs": [
        {
          "output_type": "stream",
          "text": [
            "7\n"
          ],
          "name": "stdout"
        }
      ]
    },
    {
      "cell_type": "code",
      "metadata": {
        "id": "U5-H7uokKBot",
        "colab_type": "code",
        "colab": {}
      },
      "source": [
        ""
      ],
      "execution_count": 0,
      "outputs": []
    },
    {
      "cell_type": "markdown",
      "metadata": {
        "id": "Xdc6mIjQKMc3",
        "colab_type": "text"
      },
      "source": [
        "###Importing Libraries - import()"
      ]
    },
    {
      "cell_type": "code",
      "metadata": {
        "id": "r9WTDlfrKPW8",
        "colab_type": "code",
        "colab": {}
      },
      "source": [
        "import numpy as np"
      ],
      "execution_count": 0,
      "outputs": []
    },
    {
      "cell_type": "code",
      "metadata": {
        "id": "dzUh-i5Nbaf7",
        "colab_type": "code",
        "colab": {}
      },
      "source": [
        ""
      ],
      "execution_count": 0,
      "outputs": []
    },
    {
      "cell_type": "markdown",
      "metadata": {
        "id": "g9dvUw9Vbbrd",
        "colab_type": "text"
      },
      "source": [
        "###Lists"
      ]
    },
    {
      "cell_type": "markdown",
      "metadata": {
        "id": "0mZ4tZkVVhs2",
        "colab_type": "text"
      },
      "source": [
        "List are mutable meaning you can change the element of list at any index. "
      ]
    },
    {
      "cell_type": "code",
      "metadata": {
        "id": "T9W3oV7obajW",
        "colab_type": "code",
        "outputId": "37b5864a-7432-4876-eb5f-93d4c0374f27",
        "colab": {
          "base_uri": "https://localhost:8080/",
          "height": 33
        }
      },
      "source": [
        "a = []\n",
        "print(type(a))"
      ],
      "execution_count": 56,
      "outputs": [
        {
          "output_type": "stream",
          "text": [
            "<class 'list'>\n"
          ],
          "name": "stdout"
        }
      ]
    },
    {
      "cell_type": "code",
      "metadata": {
        "id": "WFEdq9zLbanq",
        "colab_type": "code",
        "outputId": "19015169-ebf9-455d-c2c0-21101bbdac00",
        "colab": {
          "base_uri": "https://localhost:8080/",
          "height": 33
        }
      },
      "source": [
        "a = ['a','b',34,[23,3],'Hello, World!']\n",
        "print(a)"
      ],
      "execution_count": 57,
      "outputs": [
        {
          "output_type": "stream",
          "text": [
            "['a', 'b', 34, [23, 3], 'Hello, World!']\n"
          ],
          "name": "stdout"
        }
      ]
    },
    {
      "cell_type": "markdown",
      "metadata": {
        "id": "2FMALCbCb-7V",
        "colab_type": "text"
      },
      "source": [
        "1. Indexing"
      ]
    },
    {
      "cell_type": "code",
      "metadata": {
        "id": "h9k09oCUbatz",
        "colab_type": "code",
        "outputId": "c879c536-cde4-41a7-d7a8-befccbca5858",
        "colab": {
          "base_uri": "https://localhost:8080/",
          "height": 33
        }
      },
      "source": [
        "a[1]"
      ],
      "execution_count": 58,
      "outputs": [
        {
          "output_type": "execute_result",
          "data": {
            "text/plain": [
              "'b'"
            ]
          },
          "metadata": {
            "tags": []
          },
          "execution_count": 58
        }
      ]
    },
    {
      "cell_type": "code",
      "metadata": {
        "id": "3tDZVqxTbaz3",
        "colab_type": "code",
        "outputId": "d77e8820-16fd-4d74-eb60-495647029a80",
        "colab": {
          "base_uri": "https://localhost:8080/",
          "height": 33
        }
      },
      "source": [
        "a[3]"
      ],
      "execution_count": 59,
      "outputs": [
        {
          "output_type": "execute_result",
          "data": {
            "text/plain": [
              "[23, 3]"
            ]
          },
          "metadata": {
            "tags": []
          },
          "execution_count": 59
        }
      ]
    },
    {
      "cell_type": "code",
      "metadata": {
        "id": "ycTsaVV5ba2-",
        "colab_type": "code",
        "outputId": "1a50410d-0871-4c05-8499-2d715b4985f1",
        "colab": {
          "base_uri": "https://localhost:8080/",
          "height": 33
        }
      },
      "source": [
        "a[3][1]"
      ],
      "execution_count": 60,
      "outputs": [
        {
          "output_type": "execute_result",
          "data": {
            "text/plain": [
              "3"
            ]
          },
          "metadata": {
            "tags": []
          },
          "execution_count": 60
        }
      ]
    },
    {
      "cell_type": "code",
      "metadata": {
        "id": "fRwCzQKLbaxP",
        "colab_type": "code",
        "outputId": "1005c70d-ca1b-49ab-a0ac-7c9d6f6c255e",
        "colab": {
          "base_uri": "https://localhost:8080/",
          "height": 33
        }
      },
      "source": [
        "a[4][7]"
      ],
      "execution_count": 61,
      "outputs": [
        {
          "output_type": "execute_result",
          "data": {
            "text/plain": [
              "'W'"
            ]
          },
          "metadata": {
            "tags": []
          },
          "execution_count": 61
        }
      ]
    },
    {
      "cell_type": "code",
      "metadata": {
        "id": "LbhWJ-SVbaqj",
        "colab_type": "code",
        "outputId": "f183497a-5feb-49e6-a8fc-c1398fb31584",
        "colab": {
          "base_uri": "https://localhost:8080/",
          "height": 33
        }
      },
      "source": [
        "a[4][-1]"
      ],
      "execution_count": 62,
      "outputs": [
        {
          "output_type": "execute_result",
          "data": {
            "text/plain": [
              "'!'"
            ]
          },
          "metadata": {
            "tags": []
          },
          "execution_count": 62
        }
      ]
    },
    {
      "cell_type": "markdown",
      "metadata": {
        "id": "XyRlKHHncfJX",
        "colab_type": "text"
      },
      "source": [
        "2. Slicing"
      ]
    },
    {
      "cell_type": "code",
      "metadata": {
        "id": "xWfs_7mKcUpL",
        "colab_type": "code",
        "outputId": "e0acbaf4-1d75-49f8-dbea-90776cc750a4",
        "colab": {
          "base_uri": "https://localhost:8080/",
          "height": 33
        }
      },
      "source": [
        "a[4][0:5]"
      ],
      "execution_count": 63,
      "outputs": [
        {
          "output_type": "execute_result",
          "data": {
            "text/plain": [
              "'Hello'"
            ]
          },
          "metadata": {
            "tags": []
          },
          "execution_count": 63
        }
      ]
    },
    {
      "cell_type": "markdown",
      "metadata": {
        "id": "jm6-nzH9ckU_",
        "colab_type": "text"
      },
      "source": [
        "3. Functions"
      ]
    },
    {
      "cell_type": "code",
      "metadata": {
        "id": "6vExVBLNcZpG",
        "colab_type": "code",
        "outputId": "8bc8a1ed-20fa-464c-b57a-c93e44358010",
        "colab": {
          "base_uri": "https://localhost:8080/",
          "height": 33
        }
      },
      "source": [
        "len(a)"
      ],
      "execution_count": 64,
      "outputs": [
        {
          "output_type": "execute_result",
          "data": {
            "text/plain": [
              "5"
            ]
          },
          "metadata": {
            "tags": []
          },
          "execution_count": 64
        }
      ]
    },
    {
      "cell_type": "code",
      "metadata": {
        "id": "rfdBa_uwcnzI",
        "colab_type": "code",
        "outputId": "a9ff3fa2-bf07-4398-97c5-b6ab7aa5165b",
        "colab": {
          "base_uri": "https://localhost:8080/",
          "height": 50
        }
      },
      "source": [
        "print(min(a[3]))\n",
        "print(max(a[3]))"
      ],
      "execution_count": 65,
      "outputs": [
        {
          "output_type": "stream",
          "text": [
            "3\n",
            "23\n"
          ],
          "name": "stdout"
        }
      ]
    },
    {
      "cell_type": "code",
      "metadata": {
        "id": "cP8Q8k_7cqty",
        "colab_type": "code",
        "outputId": "3fc2767b-3366-4c3a-cd87-9aae4a25d4c2",
        "colab": {
          "base_uri": "https://localhost:8080/",
          "height": 33
        }
      },
      "source": [
        "\n",
        "[1,2,3,4] + [2,2,2,2]"
      ],
      "execution_count": 66,
      "outputs": [
        {
          "output_type": "execute_result",
          "data": {
            "text/plain": [
              "[1, 2, 3, 4, 2, 2, 2, 2]"
            ]
          },
          "metadata": {
            "tags": []
          },
          "execution_count": 66
        }
      ]
    },
    {
      "cell_type": "code",
      "metadata": {
        "id": "WlSVw9_bc_f1",
        "colab_type": "code",
        "outputId": "dfeb5329-5398-48b8-9013-938a791ef2aa",
        "colab": {
          "base_uri": "https://localhost:8080/",
          "height": 33
        }
      },
      "source": [
        "'a' in a"
      ],
      "execution_count": 67,
      "outputs": [
        {
          "output_type": "execute_result",
          "data": {
            "text/plain": [
              "True"
            ]
          },
          "metadata": {
            "tags": []
          },
          "execution_count": 67
        }
      ]
    },
    {
      "cell_type": "code",
      "metadata": {
        "id": "SyP7uwYkdFI1",
        "colab_type": "code",
        "colab": {}
      },
      "source": [
        "a.append('d')  #append() is use to add a element at the end of list."
      ],
      "execution_count": 0,
      "outputs": []
    },
    {
      "cell_type": "code",
      "metadata": {
        "id": "zQh7-6widUTT",
        "colab_type": "code",
        "outputId": "c2556b8f-a650-4616-e25f-b57a001fa30a",
        "colab": {
          "base_uri": "https://localhost:8080/",
          "height": 33
        }
      },
      "source": [
        "a.index('d')"
      ],
      "execution_count": 69,
      "outputs": [
        {
          "output_type": "execute_result",
          "data": {
            "text/plain": [
              "5"
            ]
          },
          "metadata": {
            "tags": []
          },
          "execution_count": 69
        }
      ]
    },
    {
      "cell_type": "code",
      "metadata": {
        "id": "5VE_sZxndZPp",
        "colab_type": "code",
        "colab": {}
      },
      "source": [
        "a[5] = 'hello'"
      ],
      "execution_count": 0,
      "outputs": []
    },
    {
      "cell_type": "code",
      "metadata": {
        "id": "5o7ZI5-fddh9",
        "colab_type": "code",
        "outputId": "ef6d92ca-7187-4e54-8077-27ab8bbbc131",
        "colab": {
          "base_uri": "https://localhost:8080/",
          "height": 33
        }
      },
      "source": [
        "a"
      ],
      "execution_count": 71,
      "outputs": [
        {
          "output_type": "execute_result",
          "data": {
            "text/plain": [
              "['a', 'b', 34, [23, 3], 'Hello, World!', 'hello']"
            ]
          },
          "metadata": {
            "tags": []
          },
          "execution_count": 71
        }
      ]
    },
    {
      "cell_type": "markdown",
      "metadata": {
        "id": "y_JiWWJqdoMN",
        "colab_type": "text"
      },
      "source": [
        "other functions are pop(),remove(),reverse(),sort(),etc"
      ]
    },
    {
      "cell_type": "code",
      "metadata": {
        "id": "9P2G1EP-dd46",
        "colab_type": "code",
        "colab": {}
      },
      "source": [
        ""
      ],
      "execution_count": 0,
      "outputs": []
    },
    {
      "cell_type": "markdown",
      "metadata": {
        "id": "c8t--rvUd53p",
        "colab_type": "text"
      },
      "source": [
        "###**Tuples**"
      ]
    },
    {
      "cell_type": "markdown",
      "metadata": {
        "id": "TBat-rgoHBhU",
        "colab_type": "text"
      },
      "source": [
        "Tuple are very similar to list however , unlike lists they are immutable"
      ]
    },
    {
      "cell_type": "code",
      "metadata": {
        "id": "wmJchTX-IMxd",
        "colab_type": "code",
        "outputId": "e0a338fa-be29-4b6c-8ed3-6477c458861a",
        "colab": {
          "base_uri": "https://localhost:8080/",
          "height": 33
        }
      },
      "source": [
        "#create a tuple \n",
        "tup = (1,2,3,4)\n",
        "tup"
      ],
      "execution_count": 72,
      "outputs": [
        {
          "output_type": "execute_result",
          "data": {
            "text/plain": [
              "(1, 2, 3, 4)"
            ]
          },
          "metadata": {
            "tags": []
          },
          "execution_count": 72
        }
      ]
    },
    {
      "cell_type": "markdown",
      "metadata": {
        "id": "HWNeYAQqIqez",
        "colab_type": "text"
      },
      "source": [
        "####**Indexing**"
      ]
    },
    {
      "cell_type": "code",
      "metadata": {
        "id": "3-9gK0H8ImPu",
        "colab_type": "code",
        "outputId": "23e0e4bc-14b8-42c1-db3c-3173b5664365",
        "colab": {
          "base_uri": "https://localhost:8080/",
          "height": 33
        }
      },
      "source": [
        "tup[0]"
      ],
      "execution_count": 73,
      "outputs": [
        {
          "output_type": "execute_result",
          "data": {
            "text/plain": [
              "1"
            ]
          },
          "metadata": {
            "tags": []
          },
          "execution_count": 73
        }
      ]
    },
    {
      "cell_type": "code",
      "metadata": {
        "id": "HgziVzNDI2vh",
        "colab_type": "code",
        "outputId": "87bbd744-038a-4268-8d62-4fab5610ee00",
        "colab": {
          "base_uri": "https://localhost:8080/",
          "height": 33
        }
      },
      "source": [
        "tup[1]"
      ],
      "execution_count": 74,
      "outputs": [
        {
          "output_type": "execute_result",
          "data": {
            "text/plain": [
              "2"
            ]
          },
          "metadata": {
            "tags": []
          },
          "execution_count": 74
        }
      ]
    },
    {
      "cell_type": "markdown",
      "metadata": {
        "id": "fMY7Vz6xI9B6",
        "colab_type": "text"
      },
      "source": [
        "####**Immutability**"
      ]
    },
    {
      "cell_type": "code",
      "metadata": {
        "id": "zAdzR6QEJQ1o",
        "colab_type": "code",
        "outputId": "81fd81ee-61ab-4ef8-bae0-01b98fca0b8d",
        "colab": {
          "base_uri": "https://localhost:8080/",
          "height": 162
        }
      },
      "source": [
        "tup[0] = \"hair\"       # error will occur due to immutable behaviour of tuple"
      ],
      "execution_count": 75,
      "outputs": [
        {
          "output_type": "error",
          "ename": "TypeError",
          "evalue": "ignored",
          "traceback": [
            "\u001b[0;31m---------------------------------------------------------------------------\u001b[0m",
            "\u001b[0;31mTypeError\u001b[0m                                 Traceback (most recent call last)",
            "\u001b[0;32m<ipython-input-75-d977561574ed>\u001b[0m in \u001b[0;36m<module>\u001b[0;34m()\u001b[0m\n\u001b[0;32m----> 1\u001b[0;31m \u001b[0mtup\u001b[0m\u001b[0;34m[\u001b[0m\u001b[0;36m0\u001b[0m\u001b[0;34m]\u001b[0m \u001b[0;34m=\u001b[0m \u001b[0;34m\"hair\"\u001b[0m       \u001b[0;31m# error will occur due to immutable behaviour of tuple\u001b[0m\u001b[0;34m\u001b[0m\u001b[0;34m\u001b[0m\u001b[0m\n\u001b[0m",
            "\u001b[0;31mTypeError\u001b[0m: 'tuple' object does not support item assignment"
          ]
        }
      ]
    },
    {
      "cell_type": "markdown",
      "metadata": {
        "id": "6BugypsVJ_mG",
        "colab_type": "text"
      },
      "source": [
        "**MODIFY TUPLE** - First change into list using list() function and then modify then again change to tuple. Example\n"
      ]
    },
    {
      "cell_type": "code",
      "metadata": {
        "id": "_HUIPvXaKWUI",
        "colab_type": "code",
        "outputId": "75907b80-63f7-4c46-f37f-9b85d41d8456",
        "colab": {
          "base_uri": "https://localhost:8080/",
          "height": 33
        }
      },
      "source": [
        "t = (1,2,3,4) #create tuple\n",
        "t = list(t)   # convert tuple into list using list() function\n",
        "t.append(5)  # add 5 in list t\n",
        "t = tuple(t)  # convert into tuple using tuple() function\n",
        "t"
      ],
      "execution_count": 76,
      "outputs": [
        {
          "output_type": "execute_result",
          "data": {
            "text/plain": [
              "(1, 2, 3, 4, 5)"
            ]
          },
          "metadata": {
            "tags": []
          },
          "execution_count": 76
        }
      ]
    },
    {
      "cell_type": "markdown",
      "metadata": {
        "id": "jWhSlbTeWHBS",
        "colab_type": "text"
      },
      "source": [
        "###**Dictionary**"
      ]
    },
    {
      "cell_type": "markdown",
      "metadata": {
        "id": "APr0sjssWMVl",
        "colab_type": "text"
      },
      "source": [
        "Dictionary is one of the beautyful things of Python. You can take advantage of dictionary as a database element extraction in the sense of key-value pairs. "
      ]
    },
    {
      "cell_type": "code",
      "metadata": {
        "id": "ZaFiE24JWLK9",
        "colab_type": "code",
        "outputId": "f418c88d-a7fd-4a74-e080-6c652331d001",
        "colab": {
          "base_uri": "https://localhost:8080/",
          "height": 33
        }
      },
      "source": [
        "d = {}        #Declaration of dictionary remember it is dictionary declaration not a set declaration. \n",
        "d = dict()    #Another way of declaring a dictionary. \n",
        "\n",
        "d = {'one':1,'two':2,'three':3}\n",
        "d"
      ],
      "execution_count": 77,
      "outputs": [
        {
          "output_type": "execute_result",
          "data": {
            "text/plain": [
              "{'one': 1, 'three': 3, 'two': 2}"
            ]
          },
          "metadata": {
            "tags": []
          },
          "execution_count": 77
        }
      ]
    },
    {
      "cell_type": "code",
      "metadata": {
        "id": "Y1qqvlBTXW6r",
        "colab_type": "code",
        "outputId": "cb3203f6-740f-4976-da72-e1f7def9bd7c",
        "colab": {
          "base_uri": "https://localhost:8080/",
          "height": 33
        }
      },
      "source": [
        "#Adding a new element to dictionary d\n",
        "d['four'] = 4\n",
        "d['five'] = 5\n",
        "d"
      ],
      "execution_count": 78,
      "outputs": [
        {
          "output_type": "execute_result",
          "data": {
            "text/plain": [
              "{'five': 5, 'four': 4, 'one': 1, 'three': 3, 'two': 2}"
            ]
          },
          "metadata": {
            "tags": []
          },
          "execution_count": 78
        }
      ]
    },
    {
      "cell_type": "markdown",
      "metadata": {
        "id": "TtAKTH6KYeL2",
        "colab_type": "text"
      },
      "source": [
        "####**Functions of dictionary**"
      ]
    },
    {
      "cell_type": "markdown",
      "metadata": {
        "id": "-d1b6uuJYsEp",
        "colab_type": "text"
      },
      "source": [
        "**keys()** - It is use to print the keys of a dictionary. "
      ]
    },
    {
      "cell_type": "code",
      "metadata": {
        "id": "mFED_gUiXiEc",
        "colab_type": "code",
        "outputId": "cf28f850-7359-4d2b-8e5d-e250a63297f7",
        "colab": {
          "base_uri": "https://localhost:8080/",
          "height": 33
        }
      },
      "source": [
        "d.keys()"
      ],
      "execution_count": 79,
      "outputs": [
        {
          "output_type": "execute_result",
          "data": {
            "text/plain": [
              "dict_keys(['one', 'two', 'three', 'four', 'five'])"
            ]
          },
          "metadata": {
            "tags": []
          },
          "execution_count": 79
        }
      ]
    },
    {
      "cell_type": "markdown",
      "metadata": {
        "id": "uSbc9izYYzCU",
        "colab_type": "text"
      },
      "source": [
        "####**values()** - It is use print the values of a dictionary. "
      ]
    },
    {
      "cell_type": "code",
      "metadata": {
        "id": "hHNpj72CXk2_",
        "colab_type": "code",
        "outputId": "280d6c5b-eb45-43fe-ecd8-286cbcf7d852",
        "colab": {
          "base_uri": "https://localhost:8080/",
          "height": 33
        }
      },
      "source": [
        "d.values()"
      ],
      "execution_count": 80,
      "outputs": [
        {
          "output_type": "execute_result",
          "data": {
            "text/plain": [
              "dict_values([1, 2, 3, 4, 5])"
            ]
          },
          "metadata": {
            "tags": []
          },
          "execution_count": 80
        }
      ]
    },
    {
      "cell_type": "markdown",
      "metadata": {
        "id": "odLagsJLY-AA",
        "colab_type": "text"
      },
      "source": [
        "####**items()** - It is use to return a list containing both keys and values but in a list of tuple of key-value of each element. "
      ]
    },
    {
      "cell_type": "code",
      "metadata": {
        "id": "1ZvqrzDgXlsX",
        "colab_type": "code",
        "outputId": "7e6c9c67-5ad7-479a-90fd-307624f96cdc",
        "colab": {
          "base_uri": "https://localhost:8080/",
          "height": 33
        }
      },
      "source": [
        "d.items()"
      ],
      "execution_count": 81,
      "outputs": [
        {
          "output_type": "execute_result",
          "data": {
            "text/plain": [
              "dict_items([('one', 1), ('two', 2), ('three', 3), ('four', 4), ('five', 5)])"
            ]
          },
          "metadata": {
            "tags": []
          },
          "execution_count": 81
        }
      ]
    },
    {
      "cell_type": "markdown",
      "metadata": {
        "id": "Ty12UfjJZus5",
        "colab_type": "text"
      },
      "source": [
        "####**pop()** - It is use to remove an element from the dictionary. "
      ]
    },
    {
      "cell_type": "code",
      "metadata": {
        "id": "rrjXxseXZo3j",
        "colab_type": "code",
        "outputId": "68fdedf8-06d1-4db1-fa2e-cb014e972c88",
        "colab": {
          "base_uri": "https://localhost:8080/",
          "height": 33
        }
      },
      "source": [
        "d.pop('two')"
      ],
      "execution_count": 82,
      "outputs": [
        {
          "output_type": "execute_result",
          "data": {
            "text/plain": [
              "2"
            ]
          },
          "metadata": {
            "tags": []
          },
          "execution_count": 82
        }
      ]
    },
    {
      "cell_type": "code",
      "metadata": {
        "id": "8KktBBKYZ904",
        "colab_type": "code",
        "outputId": "452135da-b0cc-406d-f0b0-6e56a8930295",
        "colab": {
          "base_uri": "https://localhost:8080/",
          "height": 33
        }
      },
      "source": [
        "d"
      ],
      "execution_count": 83,
      "outputs": [
        {
          "output_type": "execute_result",
          "data": {
            "text/plain": [
              "{'five': 5, 'four': 4, 'one': 1, 'three': 3}"
            ]
          },
          "metadata": {
            "tags": []
          },
          "execution_count": 83
        }
      ]
    },
    {
      "cell_type": "code",
      "metadata": {
        "id": "Bf8xqzcmSBys",
        "colab_type": "code",
        "colab": {}
      },
      "source": [
        ""
      ],
      "execution_count": 0,
      "outputs": []
    }
  ]
}