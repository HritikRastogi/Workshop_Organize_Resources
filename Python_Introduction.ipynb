{
  "nbformat": 4,
  "nbformat_minor": 0,
  "metadata": {
    "colab": {
      "name": "Python Introduction",
      "provenance": [],
      "authorship_tag": "ABX9TyOJvWZ35Ur81eve7vcwdh3U",
      "include_colab_link": true
    },
    "kernelspec": {
      "name": "python3",
      "display_name": "Python 3"
    }
  },
  "cells": [
    {
      "cell_type": "markdown",
      "metadata": {
        "id": "view-in-github",
        "colab_type": "text"
      },
      "source": [
        "<a href=\"https://colab.research.google.com/github/yesdeepakmittal/Python_Wksp_Organized/blob/master/Python_Introduction.ipynb\" target=\"_parent\"><img src=\"https://colab.research.google.com/assets/colab-badge.svg\" alt=\"Open In Colab\"/></a>"
      ]
    },
    {
      "cell_type": "markdown",
      "metadata": {
        "id": "8IxHDNWX14Pr",
        "colab_type": "text"
      },
      "source": [
        "***Python*** is an interpreted based, high-level, general-purpose programming language introduced by ***Guido van Rossum***. It is easily readable language and unlike other languages such as C-programming, it does not require any curly brackets to delimit blocks. It uses indentation instead. It is a widely-used programming language and it is fun. You will be astonished using this programming language to solve problems.  "
      ]
    },
    {
      "cell_type": "markdown",
      "metadata": {
        "id": "pjZwbNSm7uW0",
        "colab_type": "text"
      },
      "source": [
        "###Arithmetic Operators + - \\* / // % \\**\n",
        "\n"
      ]
    },
    {
      "cell_type": "code",
      "metadata": {
        "id": "NLE1Xzde0xWm",
        "colab_type": "code",
        "colab": {
          "base_uri": "https://localhost:8080/",
          "height": 33
        },
        "outputId": "8bac728f-4b4b-4d7b-e097-039d8f7bf670"
      },
      "source": [
        "5+1  #Addition"
      ],
      "execution_count": 1,
      "outputs": [
        {
          "output_type": "execute_result",
          "data": {
            "text/plain": [
              "6"
            ]
          },
          "metadata": {
            "tags": []
          },
          "execution_count": 1
        }
      ]
    },
    {
      "cell_type": "code",
      "metadata": {
        "id": "fBA5uqWxAvT4",
        "colab_type": "code",
        "colab": {
          "base_uri": "https://localhost:8080/",
          "height": 33
        },
        "outputId": "0348b632-28c6-44b2-dff1-1d9d75c0a0d8"
      },
      "source": [
        "5-1  #Substraction"
      ],
      "execution_count": 3,
      "outputs": [
        {
          "output_type": "execute_result",
          "data": {
            "text/plain": [
              "4"
            ]
          },
          "metadata": {
            "tags": []
          },
          "execution_count": 3
        }
      ]
    },
    {
      "cell_type": "code",
      "metadata": {
        "id": "gcg8yUZ6AssF",
        "colab_type": "code",
        "colab": {
          "base_uri": "https://localhost:8080/",
          "height": 33
        },
        "outputId": "876512e1-e960-4a8a-b42d-f80184149d34"
      },
      "source": [
        "2*3  #Multiplication"
      ],
      "execution_count": 9,
      "outputs": [
        {
          "output_type": "execute_result",
          "data": {
            "text/plain": [
              "6"
            ]
          },
          "metadata": {
            "tags": []
          },
          "execution_count": 9
        }
      ]
    },
    {
      "cell_type": "code",
      "metadata": {
        "id": "_FfGwDL1AuCI",
        "colab_type": "code",
        "colab": {
          "base_uri": "https://localhost:8080/",
          "height": 33
        },
        "outputId": "37333525-1589-4611-d525-516f06c9d9a8"
      },
      "source": [
        "9/2  #Floating division(default)"
      ],
      "execution_count": 11,
      "outputs": [
        {
          "output_type": "execute_result",
          "data": {
            "text/plain": [
              "4.5"
            ]
          },
          "metadata": {
            "tags": []
          },
          "execution_count": 11
        }
      ]
    },
    {
      "cell_type": "code",
      "metadata": {
        "id": "SqHoyrZYA1-X",
        "colab_type": "code",
        "colab": {
          "base_uri": "https://localhost:8080/",
          "height": 33
        },
        "outputId": "13794e90-6df2-46c0-f4b7-04452dba632e"
      },
      "source": [
        "9//2 #Integer division"
      ],
      "execution_count": 6,
      "outputs": [
        {
          "output_type": "execute_result",
          "data": {
            "text/plain": [
              "4"
            ]
          },
          "metadata": {
            "tags": []
          },
          "execution_count": 6
        }
      ]
    },
    {
      "cell_type": "code",
      "metadata": {
        "id": "BZjHNaYHA3FV",
        "colab_type": "code",
        "colab": {
          "base_uri": "https://localhost:8080/",
          "height": 33
        },
        "outputId": "bbbf4720-b04e-4c9c-90e2-893a7950f2f1"
      },
      "source": [
        "9%2  #Mode"
      ],
      "execution_count": 7,
      "outputs": [
        {
          "output_type": "execute_result",
          "data": {
            "text/plain": [
              "1"
            ]
          },
          "metadata": {
            "tags": []
          },
          "execution_count": 7
        }
      ]
    },
    {
      "cell_type": "code",
      "metadata": {
        "id": "OY-MMiQsD8q0",
        "colab_type": "code",
        "colab": {
          "base_uri": "https://localhost:8080/",
          "height": 33
        },
        "outputId": "cbfd5e8a-43e2-4c19-f883-18eff4bace45"
      },
      "source": [
        "2**10 #Exponentiation"
      ],
      "execution_count": 10,
      "outputs": [
        {
          "output_type": "execute_result",
          "data": {
            "text/plain": [
              "1024"
            ]
          },
          "metadata": {
            "tags": []
          },
          "execution_count": 10
        }
      ]
    },
    {
      "cell_type": "markdown",
      "metadata": {
        "id": "l14yGS_iBZh2",
        "colab_type": "text"
      },
      "source": [
        "###Some Useful Functions"
      ]
    },
    {
      "cell_type": "markdown",
      "metadata": {
        "id": "lbd_pWXaBkqL",
        "colab_type": "text"
      },
      "source": [
        "1. print() - It is use to print the specified messages."
      ]
    },
    {
      "cell_type": "code",
      "metadata": {
        "id": "lBXCi26zBEYl",
        "colab_type": "code",
        "colab": {
          "base_uri": "https://localhost:8080/",
          "height": 33
        },
        "outputId": "34442297-4b3a-49f0-f287-84532ebce298"
      },
      "source": [
        "a = 2      #Assignment\n",
        "b = a*2    \n",
        "'''Python is fun and it does not require to declare varaible before using. A single variable can be used as integer, float, string, list, tuple, etc.'''\n",
        "print(b)"
      ],
      "execution_count": 8,
      "outputs": [
        {
          "output_type": "stream",
          "text": [
            "4\n"
          ],
          "name": "stdout"
        }
      ]
    },
    {
      "cell_type": "code",
      "metadata": {
        "id": "TW-rikGPDK9q",
        "colab_type": "code",
        "colab": {}
      },
      "source": [
        ""
      ],
      "execution_count": 0,
      "outputs": []
    }
  ]
}