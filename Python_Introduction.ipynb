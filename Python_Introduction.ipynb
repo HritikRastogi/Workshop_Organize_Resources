{
  "nbformat": 4,
  "nbformat_minor": 0,
  "metadata": {
    "colab": {
      "name": "Python Introduction",
      "provenance": [],
      "authorship_tag": "ABX9TyOsXN29ypHbk54AnB9oaRlg",
      "include_colab_link": true
    },
    "kernelspec": {
      "name": "python3",
      "display_name": "Python 3"
    }
  },
  "cells": [
    {
      "cell_type": "markdown",
      "metadata": {
        "id": "view-in-github",
        "colab_type": "text"
      },
      "source": [
        "<a href=\"https://colab.research.google.com/github/yesdeepakmittal/Python_Wksp_Organized/blob/master/Python_Introduction.ipynb\" target=\"_parent\"><img src=\"https://colab.research.google.com/assets/colab-badge.svg\" alt=\"Open In Colab\"/></a>"
      ]
    },
    {
      "cell_type": "markdown",
      "metadata": {
        "id": "8IxHDNWX14Pr",
        "colab_type": "text"
      },
      "source": [
        "***Python*** is an interpreted based, high-level, general-purpose programming language introduced by ***Guido van Rossum***. It is easily readable language and unlike other languages such as C-programming, it does not require any curly brackets to delimit blocks. It uses indentation instead. It is a widely-used programming language and it is fun. You will be astonished using this programming language to solve problems.  "
      ]
    },
    {
      "cell_type": "markdown",
      "metadata": {
        "id": "xMHk7TkxW0Tp",
        "colab_type": "text"
      },
      "source": [
        "##Operators"
      ]
    },
    {
      "cell_type": "markdown",
      "metadata": {
        "id": "pjZwbNSm7uW0",
        "colab_type": "text"
      },
      "source": [
        "###Arithmetic Operators + - \\* / // % \\**\n",
        "\n"
      ]
    },
    {
      "cell_type": "markdown",
      "metadata": {
        "id": "hrXytUo_Fa52",
        "colab_type": "text"
      },
      "source": [
        "**Note** - If it is require to print last line in the cell, no need to put the argument inside the print() function."
      ]
    },
    {
      "cell_type": "code",
      "metadata": {
        "id": "NLE1Xzde0xWm",
        "colab_type": "code",
        "colab": {
          "base_uri": "https://localhost:8080/",
          "height": 33
        },
        "outputId": "8bac728f-4b4b-4d7b-e097-039d8f7bf670"
      },
      "source": [
        "5+1  #Addition"
      ],
      "execution_count": 1,
      "outputs": [
        {
          "output_type": "execute_result",
          "data": {
            "text/plain": [
              "6"
            ]
          },
          "metadata": {
            "tags": []
          },
          "execution_count": 1
        }
      ]
    },
    {
      "cell_type": "code",
      "metadata": {
        "id": "fBA5uqWxAvT4",
        "colab_type": "code",
        "colab": {
          "base_uri": "https://localhost:8080/",
          "height": 33
        },
        "outputId": "0348b632-28c6-44b2-dff1-1d9d75c0a0d8"
      },
      "source": [
        "5-1  #Substraction"
      ],
      "execution_count": 3,
      "outputs": [
        {
          "output_type": "execute_result",
          "data": {
            "text/plain": [
              "4"
            ]
          },
          "metadata": {
            "tags": []
          },
          "execution_count": 3
        }
      ]
    },
    {
      "cell_type": "code",
      "metadata": {
        "id": "gcg8yUZ6AssF",
        "colab_type": "code",
        "colab": {
          "base_uri": "https://localhost:8080/",
          "height": 33
        },
        "outputId": "876512e1-e960-4a8a-b42d-f80184149d34"
      },
      "source": [
        "2*3  #Multiplication"
      ],
      "execution_count": 9,
      "outputs": [
        {
          "output_type": "execute_result",
          "data": {
            "text/plain": [
              "6"
            ]
          },
          "metadata": {
            "tags": []
          },
          "execution_count": 9
        }
      ]
    },
    {
      "cell_type": "code",
      "metadata": {
        "id": "_FfGwDL1AuCI",
        "colab_type": "code",
        "colab": {
          "base_uri": "https://localhost:8080/",
          "height": 33
        },
        "outputId": "37333525-1589-4611-d525-516f06c9d9a8"
      },
      "source": [
        "9/2  #Floating division(default)"
      ],
      "execution_count": 11,
      "outputs": [
        {
          "output_type": "execute_result",
          "data": {
            "text/plain": [
              "4.5"
            ]
          },
          "metadata": {
            "tags": []
          },
          "execution_count": 11
        }
      ]
    },
    {
      "cell_type": "code",
      "metadata": {
        "id": "SqHoyrZYA1-X",
        "colab_type": "code",
        "colab": {
          "base_uri": "https://localhost:8080/",
          "height": 33
        },
        "outputId": "13794e90-6df2-46c0-f4b7-04452dba632e"
      },
      "source": [
        "9//2 #Integer division"
      ],
      "execution_count": 6,
      "outputs": [
        {
          "output_type": "execute_result",
          "data": {
            "text/plain": [
              "4"
            ]
          },
          "metadata": {
            "tags": []
          },
          "execution_count": 6
        }
      ]
    },
    {
      "cell_type": "code",
      "metadata": {
        "id": "BZjHNaYHA3FV",
        "colab_type": "code",
        "colab": {
          "base_uri": "https://localhost:8080/",
          "height": 33
        },
        "outputId": "bbbf4720-b04e-4c9c-90e2-893a7950f2f1"
      },
      "source": [
        "9%2  #Mode"
      ],
      "execution_count": 7,
      "outputs": [
        {
          "output_type": "execute_result",
          "data": {
            "text/plain": [
              "1"
            ]
          },
          "metadata": {
            "tags": []
          },
          "execution_count": 7
        }
      ]
    },
    {
      "cell_type": "code",
      "metadata": {
        "id": "OY-MMiQsD8q0",
        "colab_type": "code",
        "colab": {
          "base_uri": "https://localhost:8080/",
          "height": 33
        },
        "outputId": "cbfd5e8a-43e2-4c19-f883-18eff4bace45"
      },
      "source": [
        "2**10 #Exponentiation"
      ],
      "execution_count": 10,
      "outputs": [
        {
          "output_type": "execute_result",
          "data": {
            "text/plain": [
              "1024"
            ]
          },
          "metadata": {
            "tags": []
          },
          "execution_count": 10
        }
      ]
    },
    {
      "cell_type": "code",
      "metadata": {
        "id": "O9WlRBvOM7Ov",
        "colab_type": "code",
        "colab": {
          "base_uri": "https://localhost:8080/",
          "height": 33
        },
        "outputId": "5d273811-034b-4dd2-90b6-0e08b048a642"
      },
      "source": [
        "(50 - 5*6) / 4   #Float division with curlybraces"
      ],
      "execution_count": 19,
      "outputs": [
        {
          "output_type": "execute_result",
          "data": {
            "text/plain": [
              "5.0"
            ]
          },
          "metadata": {
            "tags": []
          },
          "execution_count": 19
        }
      ]
    },
    {
      "cell_type": "markdown",
      "metadata": {
        "id": "gVkGHWMhR1Gd",
        "colab_type": "text"
      },
      "source": [
        "###Relational Operators == != < > >= <= "
      ]
    },
    {
      "cell_type": "code",
      "metadata": {
        "id": "36OgUOE0R4rp",
        "colab_type": "code",
        "colab": {}
      },
      "source": [
        "a = 10; b = 4"
      ],
      "execution_count": 0,
      "outputs": []
    },
    {
      "cell_type": "code",
      "metadata": {
        "id": "tgH1nPOQX-xd",
        "colab_type": "code",
        "colab": {
          "base_uri": "https://localhost:8080/",
          "height": 33
        },
        "outputId": "cf626049-6fb3-4111-bae3-24b6c4c17052"
      },
      "source": [
        "a == b"
      ],
      "execution_count": 37,
      "outputs": [
        {
          "output_type": "execute_result",
          "data": {
            "text/plain": [
              "False"
            ]
          },
          "metadata": {
            "tags": []
          },
          "execution_count": 37
        }
      ]
    },
    {
      "cell_type": "code",
      "metadata": {
        "id": "K0xdcN6GYC7h",
        "colab_type": "code",
        "colab": {
          "base_uri": "https://localhost:8080/",
          "height": 33
        },
        "outputId": "88a4a165-f925-4398-f23a-eec9bc65108f"
      },
      "source": [
        "a != b"
      ],
      "execution_count": 38,
      "outputs": [
        {
          "output_type": "execute_result",
          "data": {
            "text/plain": [
              "True"
            ]
          },
          "metadata": {
            "tags": []
          },
          "execution_count": 38
        }
      ]
    },
    {
      "cell_type": "code",
      "metadata": {
        "id": "KEZAw8dLYDAO",
        "colab_type": "code",
        "colab": {
          "base_uri": "https://localhost:8080/",
          "height": 33
        },
        "outputId": "842d3da5-b8b1-486b-cda4-d966c7eab1b7"
      },
      "source": [
        "a < b"
      ],
      "execution_count": 43,
      "outputs": [
        {
          "output_type": "execute_result",
          "data": {
            "text/plain": [
              "False"
            ]
          },
          "metadata": {
            "tags": []
          },
          "execution_count": 43
        }
      ]
    },
    {
      "cell_type": "code",
      "metadata": {
        "id": "Msjd8720YDC3",
        "colab_type": "code",
        "colab": {
          "base_uri": "https://localhost:8080/",
          "height": 33
        },
        "outputId": "c8b3cbc8-9748-4173-d70c-d52f406da79f"
      },
      "source": [
        "a > b"
      ],
      "execution_count": 44,
      "outputs": [
        {
          "output_type": "execute_result",
          "data": {
            "text/plain": [
              "True"
            ]
          },
          "metadata": {
            "tags": []
          },
          "execution_count": 44
        }
      ]
    },
    {
      "cell_type": "code",
      "metadata": {
        "id": "xVuWfgCrYDF2",
        "colab_type": "code",
        "colab": {
          "base_uri": "https://localhost:8080/",
          "height": 33
        },
        "outputId": "fe92c091-c1e7-4b14-bbbe-a7e7702f6ca2"
      },
      "source": [
        "a >= b"
      ],
      "execution_count": 45,
      "outputs": [
        {
          "output_type": "execute_result",
          "data": {
            "text/plain": [
              "True"
            ]
          },
          "metadata": {
            "tags": []
          },
          "execution_count": 45
        }
      ]
    },
    {
      "cell_type": "code",
      "metadata": {
        "id": "zn7yeFbOYDK6",
        "colab_type": "code",
        "colab": {
          "base_uri": "https://localhost:8080/",
          "height": 33
        },
        "outputId": "c323eb44-de06-413a-ba75-3e22e9c1017c"
      },
      "source": [
        "a <= b"
      ],
      "execution_count": 46,
      "outputs": [
        {
          "output_type": "execute_result",
          "data": {
            "text/plain": [
              "False"
            ]
          },
          "metadata": {
            "tags": []
          },
          "execution_count": 46
        }
      ]
    },
    {
      "cell_type": "markdown",
      "metadata": {
        "id": "lJCG7rIMYYFs",
        "colab_type": "text"
      },
      "source": [
        "###Assignment Operator = += -= *= /= %= **= //="
      ]
    },
    {
      "cell_type": "code",
      "metadata": {
        "id": "nm5wtyWqYDOF",
        "colab_type": "code",
        "colab": {}
      },
      "source": [
        ""
      ],
      "execution_count": 0,
      "outputs": []
    },
    {
      "cell_type": "markdown",
      "metadata": {
        "id": "aLDQsm3wYumB",
        "colab_type": "text"
      },
      "source": [
        "###Bitwise Operators & | ^ ~ << >>"
      ]
    },
    {
      "cell_type": "code",
      "metadata": {
        "id": "Yi92MITcYDJo",
        "colab_type": "code",
        "colab": {}
      },
      "source": [
        ""
      ],
      "execution_count": 0,
      "outputs": []
    },
    {
      "cell_type": "markdown",
      "metadata": {
        "id": "dkv-ffZ_Y-Rz",
        "colab_type": "text"
      },
      "source": [
        "###Logical Operators and or not"
      ]
    },
    {
      "cell_type": "code",
      "metadata": {
        "id": "EVWX9DgHYC-P",
        "colab_type": "code",
        "colab": {}
      },
      "source": [
        ""
      ],
      "execution_count": 0,
      "outputs": []
    },
    {
      "cell_type": "code",
      "metadata": {
        "id": "CvlojBIQZIi1",
        "colab_type": "code",
        "colab": {}
      },
      "source": [
        ""
      ],
      "execution_count": 0,
      "outputs": []
    },
    {
      "cell_type": "code",
      "metadata": {
        "id": "AvCAZV9cZIoA",
        "colab_type": "code",
        "colab": {}
      },
      "source": [
        ""
      ],
      "execution_count": 0,
      "outputs": []
    },
    {
      "cell_type": "code",
      "metadata": {
        "id": "QqDuONSzZIqs",
        "colab_type": "code",
        "colab": {}
      },
      "source": [
        ""
      ],
      "execution_count": 0,
      "outputs": []
    },
    {
      "cell_type": "code",
      "metadata": {
        "id": "LnjeOjNfZIv3",
        "colab_type": "code",
        "colab": {}
      },
      "source": [
        ""
      ],
      "execution_count": 0,
      "outputs": []
    },
    {
      "cell_type": "code",
      "metadata": {
        "id": "uIxzljVOZIyU",
        "colab_type": "code",
        "colab": {}
      },
      "source": [
        ""
      ],
      "execution_count": 0,
      "outputs": []
    },
    {
      "cell_type": "code",
      "metadata": {
        "id": "y8q1g9tBZI2c",
        "colab_type": "code",
        "colab": {}
      },
      "source": [
        ""
      ],
      "execution_count": 0,
      "outputs": []
    },
    {
      "cell_type": "code",
      "metadata": {
        "id": "U7Vl6kvXZJBl",
        "colab_type": "code",
        "colab": {}
      },
      "source": [
        ""
      ],
      "execution_count": 0,
      "outputs": []
    },
    {
      "cell_type": "code",
      "metadata": {
        "id": "kdptoJ59ZIt6",
        "colab_type": "code",
        "colab": {}
      },
      "source": [
        ""
      ],
      "execution_count": 0,
      "outputs": []
    },
    {
      "cell_type": "code",
      "metadata": {
        "id": "B7-M6A7VZIl3",
        "colab_type": "code",
        "colab": {}
      },
      "source": [
        ""
      ],
      "execution_count": 0,
      "outputs": []
    },
    {
      "cell_type": "markdown",
      "metadata": {
        "id": "l14yGS_iBZh2",
        "colab_type": "text"
      },
      "source": [
        "###Some Basic Functions"
      ]
    },
    {
      "cell_type": "markdown",
      "metadata": {
        "id": "lbd_pWXaBkqL",
        "colab_type": "text"
      },
      "source": [
        "1. **print()** - It is use to print the specified messages."
      ]
    },
    {
      "cell_type": "markdown",
      "metadata": {
        "id": "UKhcJzNXG8qc",
        "colab_type": "text"
      },
      "source": [
        "**Note** - # and ''' '''(or \"\"\" \"\"\") are the two ways to represent comment line in python"
      ]
    },
    {
      "cell_type": "code",
      "metadata": {
        "id": "lBXCi26zBEYl",
        "colab_type": "code",
        "colab": {
          "base_uri": "https://localhost:8080/",
          "height": 33
        },
        "outputId": "34442297-4b3a-49f0-f287-84532ebce298"
      },
      "source": [
        "a = 2      \n",
        "b = a*2    \n",
        "'''Python is fun and it does not require to declare varaible before using. A single variable can be used as integer, float, string, list, tuple, etc.'''\n",
        "print(b)"
      ],
      "execution_count": 8,
      "outputs": [
        {
          "output_type": "stream",
          "text": [
            "4\n"
          ],
          "name": "stdout"
        }
      ]
    },
    {
      "cell_type": "code",
      "metadata": {
        "id": "0AFowGhKSaVI",
        "colab_type": "code",
        "colab": {
          "base_uri": "https://localhost:8080/",
          "height": 33
        },
        "outputId": "a5f563d6-3fe2-4a1d-e2b0-855ee66f24f9"
      },
      "source": [
        "a = 45; print(a)  #Multiple Python statement in single line seperated by ;"
      ],
      "execution_count": 27,
      "outputs": [
        {
          "output_type": "stream",
          "text": [
            "45\n"
          ],
          "name": "stdout"
        }
      ]
    },
    {
      "cell_type": "code",
      "metadata": {
        "id": "JmDMQ5SgTvpY",
        "colab_type": "code",
        "colab": {
          "base_uri": "https://localhost:8080/",
          "height": 33
        },
        "outputId": "d006f6cb-8fe0-485b-a6aa-e5818183e431"
      },
      "source": [
        "Name,Age='xyz',21                                     #Multiple Assignment\n",
        "print('Name is {} and Age is {}'.format(Name,Age))    #Formatting"
      ],
      "execution_count": 31,
      "outputs": [
        {
          "output_type": "stream",
          "text": [
            "Name is xyz and Age is 21\n"
          ],
          "name": "stdout"
        }
      ]
    },
    {
      "cell_type": "code",
      "metadata": {
        "id": "dkdlIbPwUWI_",
        "colab_type": "code",
        "colab": {
          "base_uri": "https://localhost:8080/",
          "height": 33
        },
        "outputId": "5693d94f-0dc3-41dc-fff0-ae882202d490"
      },
      "source": [
        "age,name = Name,Age                                   #Swapping\n",
        "print('Name is {} and Age is {}'.format(name,age)) "
      ],
      "execution_count": 32,
      "outputs": [
        {
          "output_type": "stream",
          "text": [
            "Name is 21 and Age is xyz\n"
          ],
          "name": "stdout"
        }
      ]
    },
    {
      "cell_type": "markdown",
      "metadata": {
        "id": "ukTZrLzmGYMz",
        "colab_type": "text"
      },
      "source": [
        "2. **input()** - It is used to take input from the user. "
      ]
    },
    {
      "cell_type": "markdown",
      "metadata": {
        "id": "ZgfCBaL8HY4m",
        "colab_type": "text"
      },
      "source": [
        "**Note** - python takes input in the form of string. To get input in integer form pass the input function into int() function. "
      ]
    },
    {
      "cell_type": "code",
      "metadata": {
        "id": "TW-rikGPDK9q",
        "colab_type": "code",
        "colab": {
          "base_uri": "https://localhost:8080/",
          "height": 50
        },
        "outputId": "a2f66182-ae70-4f68-b7af-4f3b81b870f5"
      },
      "source": [
        "a = int(input('Enter your roll number ')) #int() is a function which is use to convert numeric digits into integer.\n",
        "print('Your roll number is',a)            #Python add whitespace between two strings if seperated by ,"
      ],
      "execution_count": 16,
      "outputs": [
        {
          "output_type": "stream",
          "text": [
            "Enter your roll number 12\n",
            "Your roll number is 12\n"
          ],
          "name": "stdout"
        }
      ]
    },
    {
      "cell_type": "markdown",
      "metadata": {
        "id": "ScJqEdqPVAfR",
        "colab_type": "text"
      },
      "source": [
        "3. **type()** - It is used to determine the type of a variable."
      ]
    },
    {
      "cell_type": "code",
      "metadata": {
        "id": "b4-ZsLJcH3jv",
        "colab_type": "code",
        "colab": {
          "base_uri": "https://localhost:8080/",
          "height": 67
        },
        "outputId": "ffe60d7b-b58f-4ded-e2d3-ad1c4608654d"
      },
      "source": [
        "a = 3; b = 'stt'; c = 2.3\n",
        "print(type(a))\n",
        "print(type(b))\n",
        "print(type(c))"
      ],
      "execution_count": 35,
      "outputs": [
        {
          "output_type": "stream",
          "text": [
            "<class 'int'>\n",
            "<class 'str'>\n",
            "<class 'float'>\n"
          ],
          "name": "stdout"
        }
      ]
    },
    {
      "cell_type": "code",
      "metadata": {
        "id": "uxFdYm-HJtRt",
        "colab_type": "code",
        "colab": {}
      },
      "source": [
        ""
      ],
      "execution_count": 0,
      "outputs": []
    },
    {
      "cell_type": "markdown",
      "metadata": {
        "id": "1qAQnZFSZYlT",
        "colab_type": "text"
      },
      "source": [
        "4. **round()** - It rounds the value to a specified number of places. "
      ]
    },
    {
      "cell_type": "code",
      "metadata": {
        "id": "NmSezwkVZXIF",
        "colab_type": "code",
        "colab": {
          "base_uri": "https://localhost:8080/",
          "height": 33
        },
        "outputId": "93dede34-f94d-4687-b5f6-adaf6483aa2b"
      },
      "source": [
        "a = 3.2294\n",
        "print(round(a,2))"
      ],
      "execution_count": 48,
      "outputs": [
        {
          "output_type": "stream",
          "text": [
            "3.23\n"
          ],
          "name": "stdout"
        }
      ]
    },
    {
      "cell_type": "code",
      "metadata": {
        "id": "2r3C3g6LZXLH",
        "colab_type": "code",
        "colab": {}
      },
      "source": [
        ""
      ],
      "execution_count": 0,
      "outputs": []
    },
    {
      "cell_type": "markdown",
      "metadata": {
        "id": "YHhQXsNPZzGe",
        "colab_type": "text"
      },
      "source": [
        "5. **abs()** - It is used to make a value absolute. "
      ]
    },
    {
      "cell_type": "code",
      "metadata": {
        "id": "Sc1WBa0TZXPZ",
        "colab_type": "code",
        "colab": {
          "base_uri": "https://localhost:8080/",
          "height": 50
        },
        "outputId": "1c4b6c71-f65e-4e11-b32e-9c2da7513e01"
      },
      "source": [
        "a = -4;b = 8\n",
        "print(abs(a))\n",
        "print(abs(b))"
      ],
      "execution_count": 49,
      "outputs": [
        {
          "output_type": "stream",
          "text": [
            "4\n",
            "8\n"
          ],
          "name": "stdout"
        }
      ]
    },
    {
      "cell_type": "code",
      "metadata": {
        "id": "_MGeuD_qZXUt",
        "colab_type": "code",
        "colab": {}
      },
      "source": [
        ""
      ],
      "execution_count": 0,
      "outputs": []
    },
    {
      "cell_type": "code",
      "metadata": {
        "id": "0bND3FAjZXXz",
        "colab_type": "code",
        "colab": {}
      },
      "source": [
        ""
      ],
      "execution_count": 0,
      "outputs": []
    },
    {
      "cell_type": "code",
      "metadata": {
        "id": "sJDGKxEBZXd9",
        "colab_type": "code",
        "colab": {}
      },
      "source": [
        ""
      ],
      "execution_count": 0,
      "outputs": []
    },
    {
      "cell_type": "code",
      "metadata": {
        "id": "DCUrn8qpZXjO",
        "colab_type": "code",
        "colab": {}
      },
      "source": [
        ""
      ],
      "execution_count": 0,
      "outputs": []
    },
    {
      "cell_type": "code",
      "metadata": {
        "id": "nUoe1FBjZXmc",
        "colab_type": "code",
        "colab": {}
      },
      "source": [
        ""
      ],
      "execution_count": 0,
      "outputs": []
    },
    {
      "cell_type": "code",
      "metadata": {
        "id": "wegFY3l8ZXhA",
        "colab_type": "code",
        "colab": {}
      },
      "source": [
        ""
      ],
      "execution_count": 0,
      "outputs": []
    },
    {
      "cell_type": "code",
      "metadata": {
        "id": "6-jEbDzOZXbx",
        "colab_type": "code",
        "colab": {}
      },
      "source": [
        ""
      ],
      "execution_count": 0,
      "outputs": []
    },
    {
      "cell_type": "code",
      "metadata": {
        "id": "isYBZv0mZXSy",
        "colab_type": "code",
        "colab": {}
      },
      "source": [
        ""
      ],
      "execution_count": 0,
      "outputs": []
    },
    {
      "cell_type": "code",
      "metadata": {
        "id": "XepTftf8ZXN5",
        "colab_type": "code",
        "colab": {}
      },
      "source": [
        ""
      ],
      "execution_count": 0,
      "outputs": []
    },
    {
      "cell_type": "markdown",
      "metadata": {
        "id": "Ed_PviuvNfth",
        "colab_type": "text"
      },
      "source": [
        "###String"
      ]
    },
    {
      "cell_type": "markdown",
      "metadata": {
        "id": "zesbdyovNugw",
        "colab_type": "text"
      },
      "source": [
        "1. String assignment"
      ]
    },
    {
      "cell_type": "code",
      "metadata": {
        "id": "nJ4148wlJtZ6",
        "colab_type": "code",
        "colab": {}
      },
      "source": [
        "a = 'Hello, World!'"
      ],
      "execution_count": 0,
      "outputs": []
    },
    {
      "cell_type": "markdown",
      "metadata": {
        "id": "QG-XaX04N0HF",
        "colab_type": "text"
      },
      "source": [
        "2. String Indexing - The indexing of string is start from 0 to n-1(n=length of string)"
      ]
    },
    {
      "cell_type": "code",
      "metadata": {
        "id": "IaXAGa_EN3Tv",
        "colab_type": "code",
        "colab": {
          "base_uri": "https://localhost:8080/",
          "height": 33
        },
        "outputId": "c7c96ea5-eafd-4519-e4ed-0818033b84af"
      },
      "source": [
        "a[0]"
      ],
      "execution_count": 54,
      "outputs": [
        {
          "output_type": "execute_result",
          "data": {
            "text/plain": [
              "'H'"
            ]
          },
          "metadata": {
            "tags": []
          },
          "execution_count": 54
        }
      ]
    },
    {
      "cell_type": "markdown",
      "metadata": {
        "id": "BLDOyaNWOElu",
        "colab_type": "text"
      },
      "source": [
        "3. Slicing"
      ]
    },
    {
      "cell_type": "code",
      "metadata": {
        "id": "C9Gn-BbuOIBX",
        "colab_type": "code",
        "colab": {
          "base_uri": "https://localhost:8080/",
          "height": 33
        },
        "outputId": "63e2fc2d-6210-494a-9586-66097cc32ff9"
      },
      "source": [
        "a[0:5]"
      ],
      "execution_count": 55,
      "outputs": [
        {
          "output_type": "execute_result",
          "data": {
            "text/plain": [
              "'Hello'"
            ]
          },
          "metadata": {
            "tags": []
          },
          "execution_count": 55
        }
      ]
    },
    {
      "cell_type": "code",
      "metadata": {
        "id": "LTQOzI6EaQ8w",
        "colab_type": "code",
        "colab": {
          "base_uri": "https://localhost:8080/",
          "height": 33
        },
        "outputId": "60ea312b-9060-43ec-deba-b543c283d0e1"
      },
      "source": [
        "print(a[0:5],'Folk!')"
      ],
      "execution_count": 56,
      "outputs": [
        {
          "output_type": "stream",
          "text": [
            "Hello Folk!\n"
          ],
          "name": "stdout"
        }
      ]
    },
    {
      "cell_type": "code",
      "metadata": {
        "id": "YquEPa5HOQ8f",
        "colab_type": "code",
        "colab": {
          "base_uri": "https://localhost:8080/",
          "height": 33
        },
        "outputId": "38823cba-2e88-4b7f-88e9-d3c8def136b8"
      },
      "source": [
        "a[7:-1]                         #-1 is use to represent last element of the string, -2 second last, and so on..."
      ],
      "execution_count": 26,
      "outputs": [
        {
          "output_type": "execute_result",
          "data": {
            "text/plain": [
              "'World'"
            ]
          },
          "metadata": {
            "tags": []
          },
          "execution_count": 26
        }
      ]
    },
    {
      "cell_type": "markdown",
      "metadata": {
        "id": "9ZzJc2GKauQt",
        "colab_type": "text"
      },
      "source": [
        "4. Concatenation"
      ]
    },
    {
      "cell_type": "code",
      "metadata": {
        "id": "7S1UOZwpaxK6",
        "colab_type": "code",
        "colab": {
          "base_uri": "https://localhost:8080/",
          "height": 33
        },
        "outputId": "d80e26c2-7a5d-44be-8579-ee00ecacab4d"
      },
      "source": [
        "F_Name = 'abc'\n",
        "L_Name = 'xyz'\n",
        "print(F_Name+' '+L_Name)"
      ],
      "execution_count": 57,
      "outputs": [
        {
          "output_type": "stream",
          "text": [
            "abc xyz\n"
          ],
          "name": "stdout"
        }
      ]
    },
    {
      "cell_type": "markdown",
      "metadata": {
        "id": "QIyguD5BJugx",
        "colab_type": "text"
      },
      "source": [
        "Function Defination"
      ]
    },
    {
      "cell_type": "code",
      "metadata": {
        "id": "c_EL_fn2Jwgf",
        "colab_type": "code",
        "colab": {
          "base_uri": "https://localhost:8080/",
          "height": 33
        },
        "outputId": "9feeeb12-f366-45d0-c844-52e1b9831e53"
      },
      "source": [
        "def add():\n",
        "  a = 4\n",
        "  b = 3\n",
        "  return a + b\n",
        "\n",
        "print(add())"
      ],
      "execution_count": 17,
      "outputs": [
        {
          "output_type": "stream",
          "text": [
            "7\n"
          ],
          "name": "stdout"
        }
      ]
    },
    {
      "cell_type": "code",
      "metadata": {
        "id": "U5-H7uokKBot",
        "colab_type": "code",
        "colab": {}
      },
      "source": [
        ""
      ],
      "execution_count": 0,
      "outputs": []
    },
    {
      "cell_type": "markdown",
      "metadata": {
        "id": "Xdc6mIjQKMc3",
        "colab_type": "text"
      },
      "source": [
        "###Importing Libraries - import()"
      ]
    },
    {
      "cell_type": "code",
      "metadata": {
        "id": "r9WTDlfrKPW8",
        "colab_type": "code",
        "colab": {}
      },
      "source": [
        "import numpy as np"
      ],
      "execution_count": 0,
      "outputs": []
    },
    {
      "cell_type": "code",
      "metadata": {
        "id": "dzUh-i5Nbaf7",
        "colab_type": "code",
        "colab": {}
      },
      "source": [
        ""
      ],
      "execution_count": 0,
      "outputs": []
    },
    {
      "cell_type": "markdown",
      "metadata": {
        "id": "g9dvUw9Vbbrd",
        "colab_type": "text"
      },
      "source": [
        "###Lists"
      ]
    },
    {
      "cell_type": "code",
      "metadata": {
        "id": "T9W3oV7obajW",
        "colab_type": "code",
        "colab": {
          "base_uri": "https://localhost:8080/",
          "height": 33
        },
        "outputId": "2255efc4-d83c-4259-98e3-668beeb180f1"
      },
      "source": [
        "a = []\n",
        "print(type(a))"
      ],
      "execution_count": 58,
      "outputs": [
        {
          "output_type": "stream",
          "text": [
            "<class 'list'>\n"
          ],
          "name": "stdout"
        }
      ]
    },
    {
      "cell_type": "code",
      "metadata": {
        "id": "WFEdq9zLbanq",
        "colab_type": "code",
        "colab": {
          "base_uri": "https://localhost:8080/",
          "height": 33
        },
        "outputId": "6cbc8880-da0a-43a5-fa19-735c50ec83ef"
      },
      "source": [
        "a = ['a','b',34,[23,3],'Hello, World!']\n",
        "print(a)"
      ],
      "execution_count": 60,
      "outputs": [
        {
          "output_type": "stream",
          "text": [
            "['a', 'b', 34, [23, 3], 'Hello, World!']\n"
          ],
          "name": "stdout"
        }
      ]
    },
    {
      "cell_type": "markdown",
      "metadata": {
        "id": "2FMALCbCb-7V",
        "colab_type": "text"
      },
      "source": [
        "1. Indexing"
      ]
    },
    {
      "cell_type": "code",
      "metadata": {
        "id": "h9k09oCUbatz",
        "colab_type": "code",
        "colab": {
          "base_uri": "https://localhost:8080/",
          "height": 33
        },
        "outputId": "406dcd20-db24-4a65-9674-95c84fc515ac"
      },
      "source": [
        "a[1]"
      ],
      "execution_count": 61,
      "outputs": [
        {
          "output_type": "execute_result",
          "data": {
            "text/plain": [
              "'b'"
            ]
          },
          "metadata": {
            "tags": []
          },
          "execution_count": 61
        }
      ]
    },
    {
      "cell_type": "code",
      "metadata": {
        "id": "3tDZVqxTbaz3",
        "colab_type": "code",
        "colab": {
          "base_uri": "https://localhost:8080/",
          "height": 33
        },
        "outputId": "8c69c94c-6e95-4591-c474-8a2a40027d48"
      },
      "source": [
        "a[3]"
      ],
      "execution_count": 62,
      "outputs": [
        {
          "output_type": "execute_result",
          "data": {
            "text/plain": [
              "[23, 3]"
            ]
          },
          "metadata": {
            "tags": []
          },
          "execution_count": 62
        }
      ]
    },
    {
      "cell_type": "code",
      "metadata": {
        "id": "ycTsaVV5ba2-",
        "colab_type": "code",
        "colab": {
          "base_uri": "https://localhost:8080/",
          "height": 33
        },
        "outputId": "7b8bcf14-9e31-43d8-bbeb-4ac155dd8ef9"
      },
      "source": [
        "a[3][1]"
      ],
      "execution_count": 63,
      "outputs": [
        {
          "output_type": "execute_result",
          "data": {
            "text/plain": [
              "3"
            ]
          },
          "metadata": {
            "tags": []
          },
          "execution_count": 63
        }
      ]
    },
    {
      "cell_type": "code",
      "metadata": {
        "id": "fRwCzQKLbaxP",
        "colab_type": "code",
        "colab": {
          "base_uri": "https://localhost:8080/",
          "height": 33
        },
        "outputId": "964c346a-9f88-448f-a4df-55c3e8b4e835"
      },
      "source": [
        "a[4][7]"
      ],
      "execution_count": 64,
      "outputs": [
        {
          "output_type": "execute_result",
          "data": {
            "text/plain": [
              "'W'"
            ]
          },
          "metadata": {
            "tags": []
          },
          "execution_count": 64
        }
      ]
    },
    {
      "cell_type": "code",
      "metadata": {
        "id": "LbhWJ-SVbaqj",
        "colab_type": "code",
        "colab": {
          "base_uri": "https://localhost:8080/",
          "height": 33
        },
        "outputId": "32cf61fc-c6f6-4cd2-9866-2714d35a03d4"
      },
      "source": [
        "a[4][-1]"
      ],
      "execution_count": 65,
      "outputs": [
        {
          "output_type": "execute_result",
          "data": {
            "text/plain": [
              "'!'"
            ]
          },
          "metadata": {
            "tags": []
          },
          "execution_count": 65
        }
      ]
    },
    {
      "cell_type": "markdown",
      "metadata": {
        "id": "XyRlKHHncfJX",
        "colab_type": "text"
      },
      "source": [
        "2. Slicing"
      ]
    },
    {
      "cell_type": "code",
      "metadata": {
        "id": "xWfs_7mKcUpL",
        "colab_type": "code",
        "colab": {
          "base_uri": "https://localhost:8080/",
          "height": 33
        },
        "outputId": "acdb09d4-fa7f-48ab-e3ac-5e94d71ea460"
      },
      "source": [
        "a[4][0:5]"
      ],
      "execution_count": 66,
      "outputs": [
        {
          "output_type": "execute_result",
          "data": {
            "text/plain": [
              "'Hello'"
            ]
          },
          "metadata": {
            "tags": []
          },
          "execution_count": 66
        }
      ]
    },
    {
      "cell_type": "markdown",
      "metadata": {
        "id": "jm6-nzH9ckU_",
        "colab_type": "text"
      },
      "source": [
        "3. Functions"
      ]
    },
    {
      "cell_type": "code",
      "metadata": {
        "id": "6vExVBLNcZpG",
        "colab_type": "code",
        "colab": {
          "base_uri": "https://localhost:8080/",
          "height": 33
        },
        "outputId": "2bb6bf77-4bc9-47e1-e5d8-f193a31ef2f5"
      },
      "source": [
        "len(a)"
      ],
      "execution_count": 67,
      "outputs": [
        {
          "output_type": "execute_result",
          "data": {
            "text/plain": [
              "5"
            ]
          },
          "metadata": {
            "tags": []
          },
          "execution_count": 67
        }
      ]
    },
    {
      "cell_type": "code",
      "metadata": {
        "id": "rfdBa_uwcnzI",
        "colab_type": "code",
        "colab": {
          "base_uri": "https://localhost:8080/",
          "height": 50
        },
        "outputId": "d726424b-706f-41a9-a062-6c59bf9d0815"
      },
      "source": [
        "print(min(a[3]))\n",
        "print(max(a[3]))"
      ],
      "execution_count": 70,
      "outputs": [
        {
          "output_type": "stream",
          "text": [
            "3\n",
            "23\n"
          ],
          "name": "stdout"
        }
      ]
    },
    {
      "cell_type": "code",
      "metadata": {
        "id": "cP8Q8k_7cqty",
        "colab_type": "code",
        "colab": {
          "base_uri": "https://localhost:8080/",
          "height": 33
        },
        "outputId": "a1eecc74-3530-465d-d35a-44b5df9b796f"
      },
      "source": [
        "[1,2,3,4] + [2,2,2,2]"
      ],
      "execution_count": 71,
      "outputs": [
        {
          "output_type": "execute_result",
          "data": {
            "text/plain": [
              "[1, 2, 3, 4, 2, 2, 2, 2]"
            ]
          },
          "metadata": {
            "tags": []
          },
          "execution_count": 71
        }
      ]
    },
    {
      "cell_type": "code",
      "metadata": {
        "id": "WlSVw9_bc_f1",
        "colab_type": "code",
        "colab": {
          "base_uri": "https://localhost:8080/",
          "height": 33
        },
        "outputId": "09b3673b-ed25-4a70-ee4a-2c6d43c0be09"
      },
      "source": [
        "'a' in a"
      ],
      "execution_count": 72,
      "outputs": [
        {
          "output_type": "execute_result",
          "data": {
            "text/plain": [
              "True"
            ]
          },
          "metadata": {
            "tags": []
          },
          "execution_count": 72
        }
      ]
    },
    {
      "cell_type": "code",
      "metadata": {
        "id": "SyP7uwYkdFI1",
        "colab_type": "code",
        "colab": {}
      },
      "source": [
        "a.append('d')  #append() is use to add a element at the end of list."
      ],
      "execution_count": 0,
      "outputs": []
    },
    {
      "cell_type": "code",
      "metadata": {
        "id": "zQh7-6widUTT",
        "colab_type": "code",
        "colab": {
          "base_uri": "https://localhost:8080/",
          "height": 33
        },
        "outputId": "9446f352-61f3-4410-ca17-774f605e0cb6"
      },
      "source": [
        "a.index('d')"
      ],
      "execution_count": 74,
      "outputs": [
        {
          "output_type": "execute_result",
          "data": {
            "text/plain": [
              "5"
            ]
          },
          "metadata": {
            "tags": []
          },
          "execution_count": 74
        }
      ]
    },
    {
      "cell_type": "code",
      "metadata": {
        "id": "5VE_sZxndZPp",
        "colab_type": "code",
        "colab": {}
      },
      "source": [
        "a[5] = 'hello'"
      ],
      "execution_count": 0,
      "outputs": []
    },
    {
      "cell_type": "code",
      "metadata": {
        "id": "5o7ZI5-fddh9",
        "colab_type": "code",
        "colab": {
          "base_uri": "https://localhost:8080/",
          "height": 33
        },
        "outputId": "641474bc-89b6-475c-d116-f34c60451cf3"
      },
      "source": [
        "a"
      ],
      "execution_count": 76,
      "outputs": [
        {
          "output_type": "execute_result",
          "data": {
            "text/plain": [
              "['a', 'b', 34, [23, 3], 'Hello, World!', 'hello']"
            ]
          },
          "metadata": {
            "tags": []
          },
          "execution_count": 76
        }
      ]
    },
    {
      "cell_type": "markdown",
      "metadata": {
        "id": "y_JiWWJqdoMN",
        "colab_type": "text"
      },
      "source": [
        "other functions are pop(),remove(),reverse(),sort(),etc"
      ]
    },
    {
      "cell_type": "code",
      "metadata": {
        "id": "9P2G1EP-dd46",
        "colab_type": "code",
        "colab": {}
      },
      "source": [
        ""
      ],
      "execution_count": 0,
      "outputs": []
    },
    {
      "cell_type": "markdown",
      "metadata": {
        "id": "c8t--rvUd53p",
        "colab_type": "text"
      },
      "source": [
        "###Tuples"
      ]
    },
    {
      "cell_type": "code",
      "metadata": {
        "id": "mKhiVttwd-8b",
        "colab_type": "code",
        "colab": {}
      },
      "source": [
        ""
      ],
      "execution_count": 0,
      "outputs": []
    }
  ]
}